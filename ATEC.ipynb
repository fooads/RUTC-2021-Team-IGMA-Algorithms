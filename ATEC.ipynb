{
 "cells": [
  {
   "cell_type": "markdown",
   "metadata": {},
   "source": [
    "## Import Libraries and Declare API Key"
   ]
  },
  {
   "cell_type": "code",
   "execution_count": 1,
   "metadata": {},
   "outputs": [],
   "source": [
    "import requests\n",
    "import pandas as pd\n",
    "import numpy as np\n",
    "import signal"
   ]
  },
  {
   "cell_type": "code",
   "execution_count": 2,
   "metadata": {},
   "outputs": [],
   "source": [
    "API_KEY = {'X-API-key': 'RPCJTKLW'}"
   ]
  },
  {
   "cell_type": "markdown",
   "metadata": {},
   "source": [
    "## Current Heat Trading Algorithm"
   ]
  },
  {
   "cell_type": "markdown",
   "metadata": {},
   "source": [
    "### Basic Buy and Sell Functions"
   ]
  },
  {
   "cell_type": "code",
   "execution_count": 18,
   "metadata": {},
   "outputs": [],
   "source": [
    "shutdown = False\n",
    "\n",
    "class ApiException(Exception):\n",
    "    pass\n",
    "\n",
    "def signal_handler(signum, frame):\n",
    "    global shutdown\n",
    "    signal.signal(signal.SIGINT, signal.SIG_DFL)\n",
    "    shutdown = True\n",
    "\n",
    "def get_tick(session):\n",
    "    resp = session.get('http://localhost:9999/v1/case')\n",
    "    if resp.ok:\n",
    "        case = resp.json()\n",
    "        return case['tick']\n",
    "    raise ApiException('Authorization error. Please check API key.')\n",
    "\n",
    "def ticker_bid_ask(session, ticker):\n",
    "    payload = {'ticker': ticker}\n",
    "    resp = session.get('http://localhost:9999/v1/securities/book', params = payload)\n",
    "    if resp.ok:\n",
    "        book = resp.json()\n",
    "        return book['bids'][0]['price'], book['asks'][0]['price']\n",
    "    raise ApiException('Authorization error. Please check API key.')\n",
    "\n",
    "def buy(session, ticker, type, q, price = None):\n",
    "    if type == 'MARKET':\n",
    "        resp = session.post('http://localhost:9999/v1/orders', params = {'ticker': ticker, 'type': 'MARKET', 'quantity': q, 'action': 'BUY'})\n",
    "        if resp.ok:\n",
    "            mkt_order = resp.json()\n",
    "            id = mkt_order['order_id']\n",
    "            print('The market buy order was submitted and has ID', id)\n",
    "        else:\n",
    "            print('The order was not successfully submitted!')\n",
    "    else:\n",
    "        resp = session.post('http://localhost:9999/v1/orders',\n",
    "                            params={'ticker': ticker, 'type': 'LIMIT', 'quantity': q, 'action': 'BUY', 'price': price})\n",
    "        if resp.ok:\n",
    "            mkt_order = resp.json()\n",
    "            id = mkt_order['order_id']\n",
    "            print('The market buy order was submitted and has ID', id)\n",
    "        else:\n",
    "            print('The order was not successfully submitted!')\n",
    "\n",
    "def sell(session, ticker, type, q, price = None):\n",
    "    if type == 'MARKET':\n",
    "        resp = session.post('http://localhost:9999/v1/orders', params = {'ticker': ticker, 'type': 'MARKET', 'quantity': q, 'action': 'SELL'})\n",
    "        if resp.ok:\n",
    "            mkt_order = resp.json()\n",
    "            id = mkt_order['order_id']\n",
    "            print('The market buy order was submitted and has ID', id)\n",
    "        else:\n",
    "            print('The order was not successfully submitted!')\n",
    "    else:\n",
    "        resp = session.post('http://localhost:9999/v1/orders',\n",
    "                            params={'ticker': ticker, 'type': 'LIMIT', 'quantity': q, 'action': 'SELL', 'price': price})\n",
    "        if resp.ok:\n",
    "            mkt_order = resp.json()\n",
    "            id = mkt_order['order_id']\n",
    "            print('The market buy order was submitted and has ID', id)\n",
    "        else:\n",
    "            print('The order was not successfully submitted!')\n",
    "\n",
    "def cancel(session, order_id):\n",
    "    order_id = order_id # assuming the order to cancel has ID 100\n",
    "    resp = session.delete('http://localhost:9999/v1/orders/{}'.format(order_id))\n",
    "    if resp.ok:\n",
    "        status = resp.json()\n",
    "        success = status['success']\n",
    "        print('The order was successfully cancelled?', success)\n",
    "        \n",
    "def tender_list(session):\n",
    "    resp = session.get('http://localhost:9999/v1/tenders')\n",
    "    if resp.ok:\n",
    "        lst = resp.json()\n",
    "        if lst:\n",
    "            return lst[0]\n",
    "        else:\n",
    "            return None\n",
    "        \n",
    "def acc_tender(session, tender, price = None):\n",
    "    if tender['is_fixed_bid'] is True:\n",
    "        resp = session.post('http://localhost:9999/v1/tenders/{}'.format(tender['tender_id']), \n",
    "                           params = {'id': tender['tender_id']})\n",
    "        if resp.ok:\n",
    "            print('tender accepted!')\n",
    "    else:\n",
    "        resp = session.post('http://localhost:9999/v1/tenders/{}'.format(tender['tender_id']), \n",
    "                           params = {'price': price, 'id': tender['tender_id']})\n",
    "        if resp.ok:\n",
    "            print('tender accepted!')\n",
    "      \n",
    "    \n",
    "def dec_tender(sesstion, tender):\n",
    "    resp = session.delete('http://localhost:9999/v1/tenders/{}'.format(tender['tender_id']), \n",
    "                           params = {'id': tender['tender_id']})\n",
    "    if resp.ok:\n",
    "        print('tender declined!')"
   ]
  },
  {
   "cell_type": "markdown",
   "metadata": {
    "heading_collapsed": true
   },
   "source": [
    "## Algorithm Execution Section"
   ]
  },
  {
   "cell_type": "code",
   "execution_count": 20,
   "metadata": {
    "hidden": true
   },
   "outputs": [
    {
     "name": "stdout",
     "output_type": "stream",
     "text": [
      "88\n",
      "The market buy order was submitted and has ID 957\n",
      "tender accepted!\n"
     ]
    }
   ],
   "source": [
    "signal.signal(signal.SIGINT, signal_handler)\n",
    "\n",
    "with requests.Session() as s:\n",
    "    s.headers.update(API_KEY)\n",
    "    tick = get_tick(s) \n",
    "    print(tick)\n",
    "    buy(s, 'USD', 'MARKET', 1000)\n",
    "    if tender_list(s):\n",
    "        acc_tender(s, tender_list(s))"
   ]
  },
  {
   "cell_type": "code",
   "execution_count": null,
   "metadata": {
    "hidden": true
   },
   "outputs": [],
   "source": []
  }
 ],
 "metadata": {
  "kernelspec": {
   "display_name": "Python 3",
   "language": "python",
   "name": "python3"
  },
  "language_info": {
   "codemirror_mode": {
    "name": "ipython",
    "version": 3
   },
   "file_extension": ".py",
   "mimetype": "text/x-python",
   "name": "python",
   "nbconvert_exporter": "python",
   "pygments_lexer": "ipython3",
   "version": "3.8.5"
  }
 },
 "nbformat": 4,
 "nbformat_minor": 4
}
