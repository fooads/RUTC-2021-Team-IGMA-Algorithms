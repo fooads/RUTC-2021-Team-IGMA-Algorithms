{
 "cells": [
  {
   "cell_type": "code",
   "execution_count": 4,
   "metadata": {},
   "outputs": [],
   "source": [
    "import requests\n",
    "import pandas as pd\n",
    "import numpy as np\n",
    "import signal\n",
    "import time"
   ]
  },
  {
   "cell_type": "code",
   "execution_count": 5,
   "metadata": {},
   "outputs": [],
   "source": [
    "API_KEY = {'X-API-key': 'RPCJTKLW'}"
   ]
  },
  {
   "cell_type": "code",
   "execution_count": 11,
   "metadata": {},
   "outputs": [
    {
     "name": "stdout",
     "output_type": "stream",
     "text": [
      "             REFINER'S HEATING OIL MARKET REPORT for Week 1\n",
      "Price of HO                                        1.928571\n",
      "            REFINER'S RBOB GASOLINE NEWS REPORT for Week 1\n",
      "Price of RB                                           DOWN\n",
      "             REFINER'S HEATING OIL MARKET REPORT for Week 2\n",
      "Price of HO                                        1.714286\n",
      "            REFINER'S RBOB GASOLINE NEWS REPORT for Week 2\n",
      "Price of RB                                             UP\n",
      "             REFINER'S HEATING OIL MARKET REPORT for Week 3\n",
      "Price of HO                                        1.657143\n",
      "            REFINER'S RBOB GASOLINE NEWS REPORT for Week 3\n",
      "Price of RB                                             UP\n",
      "             REFINER'S HEATING OIL MARKET REPORT for Week 4\n",
      "Price of HO                                        2.614286\n",
      "            REFINER'S RBOB GASOLINE NEWS REPORT for Week 4\n",
      "Price of RB                                   GREATLY DOWN\n",
      "             REFINER'S HEATING OIL MARKET REPORT for Week 5\n",
      "Price of HO                                        2.171429\n",
      "            REFINER'S RBOB GASOLINE NEWS REPORT for Week 5\n",
      "Price of RB                                     GREATLY UP\n",
      "             REFINER'S HEATING OIL MARKET REPORT for Week 6\n",
      "Price of HO                                        1.928571\n",
      "            REFINER'S RBOB GASOLINE NEWS REPORT for Week 6\n",
      "Price of RB                                   GREATLY DOWN\n",
      "             REFINER'S HEATING OIL MARKET REPORT for Week 7\n",
      "Price of HO                                        1.657143\n",
      "            REFINER'S RBOB GASOLINE NEWS REPORT for Week 7\n",
      "Price of RB                                   GREATLY DOWN\n",
      "             REFINER'S HEATING OIL MARKET REPORT for Week 8\n",
      "Price of HO                                        2.271429\n"
     ]
    },
    {
     "ename": "KeyboardInterrupt",
     "evalue": "",
     "output_type": "error",
     "traceback": [
      "\u001b[1;31m---------------------------------------------------------------------------\u001b[0m",
      "\u001b[1;31mKeyboardInterrupt\u001b[0m                         Traceback (most recent call last)",
      "\u001b[1;32m<ipython-input-11-5435331c58db>\u001b[0m in \u001b[0;36m<module>\u001b[1;34m\u001b[0m\n\u001b[0;32m     52\u001b[0m \u001b[1;33m\u001b[0m\u001b[0m\n\u001b[0;32m     53\u001b[0m \u001b[1;33m\u001b[0m\u001b[0m\n\u001b[1;32m---> 54\u001b[1;33m     \u001b[0mtime\u001b[0m\u001b[1;33m.\u001b[0m\u001b[0msleep\u001b[0m\u001b[1;33m(\u001b[0m\u001b[1;36m1\u001b[0m\u001b[1;33m)\u001b[0m\u001b[1;33m\u001b[0m\u001b[1;33m\u001b[0m\u001b[0m\n\u001b[0m",
      "\u001b[1;31mKeyboardInterrupt\u001b[0m: "
     ]
    }
   ],
   "source": [
    "news = []\n",
    "up_word = ['greater', 'amplified', 'higher', 'ramp', 'larger', 'heightened', 'increase', 'elevated']\n",
    "down_word = ['contracted', 'lower', 'cheaper']\n",
    "amp_word = ['greatly', 'much']\n",
    "count_HO = 1 #CHANGE ACCORDING TO THE CURRENT WEEK\n",
    "count_RB = 1\n",
    "\n",
    "\n",
    "while True:\n",
    "    with requests.Session() as s:\n",
    "        s.headers.update(API_KEY) \n",
    "        resp = s.get('http://localhost:9999/v1/news')\n",
    "        if resp.ok:\n",
    "            news = resp.json()\n",
    "        else:\n",
    "            print('API Error!')\n",
    "            \n",
    "    if news[0]['news_id'] > 1: \n",
    "        if news[0]['news_id'] % 2 == 0: #HO PRICE EXTRACTION\n",
    "            headline = news[0]['headline']\n",
    "            week = int(news[0]['headline'][-1])\n",
    "            tokenized = news[0]['body'].split(' ')\n",
    "            tokenized_num = [i for i in tokenized if any(map(str.isdigit, i))]\n",
    "            pho = float(tokenized_num[4][1:4]) + (int(tokenized_num[1]) - int(tokenized_num[2]))/int(tokenized_num[3])\n",
    "\n",
    "            df_news = pd.DataFrame({headline:[pho]}, index =['Price of HO']) \n",
    "            if week == count_HO:\n",
    "                print(df_news)\n",
    "                count_HO += 1\n",
    "\n",
    "             \n",
    "        else: #RB PRICE EXTRACTION\n",
    "            headline = news[0]['headline']\n",
    "            week = int(news[0]['headline'][-1])\n",
    "            tokenized = news[0]['body'].split(' ')\n",
    "            important_tokens = tokenized[-7:]\n",
    "            price = ''\n",
    "            if any(word in up_word for word in important_tokens) and any(word in amp_word for word in important_tokens):\n",
    "                price = 'GREATLY UP'\n",
    "            elif any(word in up_word for word in important_tokens):\n",
    "                price = 'UP'\n",
    "            elif any(word in amp_word for word in important_tokens):\n",
    "                price = 'GREATLY DOWN'\n",
    "            else:\n",
    "                price = 'DOWN'\n",
    "                \n",
    "            df_news = pd.DataFrame({headline:[price]}, index =['Price of RB'])\n",
    "            \n",
    "            if week == count_RB:\n",
    "                print(df_news)\n",
    "                count_RB += 1  \n",
    "            \n",
    "        \n",
    "    time.sleep(1)"
   ]
  },
  {
   "cell_type": "code",
   "execution_count": null,
   "metadata": {},
   "outputs": [],
   "source": []
  }
 ],
 "metadata": {
  "kernelspec": {
   "display_name": "Python 3",
   "language": "python",
   "name": "python3"
  },
  "language_info": {
   "codemirror_mode": {
    "name": "ipython",
    "version": 3
   },
   "file_extension": ".py",
   "mimetype": "text/x-python",
   "name": "python",
   "nbconvert_exporter": "python",
   "pygments_lexer": "ipython3",
   "version": "3.8.5"
  }
 },
 "nbformat": 4,
 "nbformat_minor": 4
}
