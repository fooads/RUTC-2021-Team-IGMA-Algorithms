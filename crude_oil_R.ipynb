{
 "cells": [
  {
   "cell_type": "code",
   "execution_count": 12,
   "metadata": {},
   "outputs": [],
   "source": [
    "import requests\n",
    "import pandas as pd\n",
    "import numpy as np\n",
    "import signal\n",
    "import time"
   ]
  },
  {
   "cell_type": "code",
   "execution_count": 13,
   "metadata": {},
   "outputs": [],
   "source": [
    "API_KEY = {'X-API-key': 'RPCJTKLW'}"
   ]
  },
  {
   "cell_type": "code",
   "execution_count": 21,
   "metadata": {},
   "outputs": [
    {
     "name": "stdout",
     "output_type": "stream",
     "text": [
      "<Response [200]>\n",
      "[{'news_id': 15, 'period': 1, 'tick': 758, 'ticker': '', 'headline': \"REFINER'S RBOB GASOLINE NEWS REPORT for Week 7\", 'body': 'Chatter indicates that local markets for RBOB across West Africa have been adhering to new government regulations to promote competitive measures, creating lower prices. Due to increased competition, the market is expected to respond with elevated demand for RBOB gasoline.'}, {'news_id': 14, 'period': 1, 'tick': 720, 'ticker': '', 'headline': \"REFINER'S HEATING OIL MARKET REPORT for Week 7\", 'body': 'In Week 7 expected average weekly temperature was 7 degrees while the realized weekly temperature is 8 degrees which has affected the demand for HO. The standard deviation of the weekly temperature is 7 degrees. The current price of HO is $2.08.<br><br> '}, {'news_id': 13, 'period': 1, 'tick': 708, 'ticker': '', 'headline': \"REFINER'S RBOB GASOLINE NEWS REPORT for Week 6\", 'body': 'Reports indicate that due to recent, friendly discussion affecting trade relations between the Trump administration and its Isreal-US Free Trade Agreement members, trade of gasoline will be somewhat easier between its member nations. Consequently, demand for RBOB gasoline is expected to increase.'}, {'news_id': 12, 'period': 1, 'tick': 600, 'ticker': '', 'headline': \"REFINER'S HEATING OIL MARKET REPORT for Week 6\", 'body': 'In Week 6 expected average weekly temperature was 0 degrees while the realized weekly temperature is 0 degrees which has affected the demand for HO. The standard deviation of the weekly temperature is 7 degrees. The current price of HO is $1.93.<br><br> Reports indicate that local markets for heating oil across Asia have been experiencing significantly increased competition. The significantly increased competition is due to a decreasing customer base which is expected to drive much lower prices. The heating oil market is expected to respond with lower prices of approximately -5%.'}, {'news_id': 11, 'period': 1, 'tick': 553, 'ticker': '', 'headline': \"REFINER'S RBOB GASOLINE NEWS REPORT for Week 5\", 'body': 'The British pound experienced a sharp fall due to weaker than expected economic performance causing refiners to scale back production. The global RBOB gasoline market has seen much higher demand as a result.'}, {'news_id': 10, 'period': 1, 'tick': 480, 'ticker': '', 'headline': \"REFINER'S HEATING OIL MARKET REPORT for Week 5\", 'body': 'In Week 5 expected average weekly temperature was 10 degrees while the realized weekly temperature is 13 degrees which has affected the demand for HO. The standard deviation of the weekly temperature is 7 degrees. The current price of HO is $2.19.<br><br> A private research body has conducted a study into levels of building insulation and furnace efficiency, to determine future demand for heating oil. Poor quality insulation is expected to raise demand for Heating Oil. Furnaces are also burning more than expected Heating Oil. The heating oil market is expected to respond with higher prices of approximately 7%.'}, {'news_id': 9, 'period': 1, 'tick': 432, 'ticker': '', 'headline': \"REFINER'S RBOB GASOLINE NEWS REPORT for Week 4\", 'body': 'Emerging markets have seen greatly stronger demand for RBOB gasoline in recent months since the Canadian dollar has depreciated, due to a generally weak economic outlook, resulting in relatively cheaper prices.'}, {'news_id': 8, 'period': 1, 'tick': 360, 'ticker': '', 'headline': \"REFINER'S HEATING OIL MARKET REPORT for Week 4\", 'body': 'In Week 4 expected average weekly temperature was 5 degrees while the realized weekly temperature is 9 degrees which has affected the demand for HO. The standard deviation of the weekly temperature is 7 degrees. The current price of HO is $3.32.<br><br> Decreases in regional transportation costs for heating oil are expected to occur due to new efficient transport routes across Asia.  Transport companies will need to invest in these routes to repair damage causing higher costs.  Heating oil prices are expected to decline by approximately -4%.'}, {'news_id': 7, 'period': 1, 'tick': 326, 'ticker': '', 'headline': \"REFINER'S RBOB GASOLINE NEWS REPORT for Week 3\", 'body': 'Reports indicate that the United States will likely enact complex laws on the import of RBOB Gasoline as well as discuss specific embargoes globally that could safeguard its interests. With the effect of the complex laws the RBOB gasoline market will likely respond with lower demand.'}, {'news_id': 6, 'period': 1, 'tick': 240, 'ticker': '', 'headline': \"REFINER'S HEATING OIL MARKET REPORT for Week 3\", 'body': 'In Week 3 expected average weekly temperature was 6 degrees while the realized weekly temperature is 8 degrees which has affected the demand for HO. The standard deviation of the weekly temperature is 7 degrees. The current price of HO is $3.15.<br><br> Recent selling in Canadian heating oil markets is supposedly largely speculative, with an impending correction coming. The implicit correction is expected to be fairly large and significantly move the market. The heating oil market is expected to respond with higher prices of approximately 7%.'}, {'news_id': 5, 'period': 1, 'tick': 158, 'ticker': '', 'headline': \"REFINER'S RBOB GASOLINE NEWS REPORT for Week 2\", 'body': 'A coalition of global governments have pledged to carefully reconsider emissions regulation given the established environmental impact after numerous scientific studies. This issue continues to be on the global consciousness with countries addressing it accordingly. The RBOB gasoline market is expected to respond with lower demand.'}, {'news_id': 4, 'period': 1, 'tick': 120, 'ticker': '', 'headline': \"REFINER'S HEATING OIL MARKET REPORT for Week 2\", 'body': 'In Week 2 expected average weekly temperature was 0 degrees while the realized weekly temperature is -4 degrees which has affected the demand for HO. The standard deviation of the weekly temperature is 7 degrees. The current price of HO is $2.46.<br><br> '}, {'news_id': 3, 'period': 1, 'tick': 84, 'ticker': '', 'headline': \"REFINER'S RBOB GASOLINE NEWS REPORT for Week 1\", 'body': 'Upon a recent stream of documents released by WikiLeaks, several members of the European Union are implementing new,  ambitious environmental regulations pertaining to RBOB oil refinement processes. The new policies are expected to be enacted quickly. These significantly higher regulatory costs are expected to result in drastically lower demand for RBOB gasoline.'}, {'news_id': 2, 'period': 1, 'tick': 1, 'ticker': '', 'headline': \"REFINER'S HEATING OIL MARKET REPORT for Week 1\", 'body': 'In Week 1 expected average weekly temperature was 3 degrees while the realized weekly temperature is 3 degrees which has affected the demand for HO. The standard deviation of the weekly temperature is 7 degrees. The current price of HO is $2.5.<br><br> The local Energy Department predicts much higher winter fuel bills for the majority of the population. After a summer of higher heating oil prices, consumers will spend much more on energy because of significantly colder weather nationally. The price of heating oil is expected to change by as much as 5%.'}, {'news_id': 1, 'period': 1, 'tick': 1, 'ticker': '', 'headline': 'You are logged in as a REFINER', 'body': ''}, {'news_id': 0, 'period': 1, 'tick': 1, 'ticker': '', 'headline': 'Welcome to the RUTC 2021 Crude Oil Trading Case - practice server', 'body': ''}]\n"
     ]
    }
   ],
   "source": [
    "news = []\n",
    "with requests.Session() as s:\n",
    "    s.headers.update(API_KEY)\n",
    "    resp = s.get('http://localhost:9999/v1/news')\n",
    "    print(resp)\n",
    "    if resp.ok:\n",
    "        news = resp.json()\n",
    "    else:\n",
    "        print('API Error!')\n",
    "print(news)"
   ]
  },
  {
   "cell_type": "code",
   "execution_count": 22,
   "metadata": {},
   "outputs": [
    {
     "name": "stdout",
     "output_type": "stream",
     "text": [
      "['Chatter', 'indicates', 'that', 'local', 'markets', 'for', 'RBOB', 'across', 'West', 'Africa', 'have', 'been', 'adhering', 'to', 'new', 'government', 'regulations', 'to', 'promote', 'competitive', 'measures,', 'creating', 'lower', 'prices.', 'Due', 'to', 'increased', 'competition,', 'the', 'market', 'is', 'expected', 'to', 'respond', 'with', 'elevated', 'demand', 'for', 'RBOB', 'gasoline.']\n",
      "[]\n"
     ]
    },
    {
     "ename": "IndexError",
     "evalue": "list index out of range",
     "output_type": "error",
     "traceback": [
      "\u001b[1;31m---------------------------------------------------------------------------\u001b[0m",
      "\u001b[1;31mIndexError\u001b[0m                                Traceback (most recent call last)",
      "\u001b[1;32m<ipython-input-22-28e5f4264f61>\u001b[0m in \u001b[0;36m<module>\u001b[1;34m\u001b[0m\n\u001b[0;32m      3\u001b[0m \u001b[0mprint\u001b[0m\u001b[1;33m(\u001b[0m\u001b[0mtokenized\u001b[0m\u001b[1;33m)\u001b[0m\u001b[1;33m\u001b[0m\u001b[1;33m\u001b[0m\u001b[0m\n\u001b[0;32m      4\u001b[0m \u001b[0mprint\u001b[0m\u001b[1;33m(\u001b[0m\u001b[0mtokenized_num\u001b[0m\u001b[1;33m)\u001b[0m\u001b[1;33m\u001b[0m\u001b[1;33m\u001b[0m\u001b[0m\n\u001b[1;32m----> 5\u001b[1;33m \u001b[0mprint\u001b[0m\u001b[1;33m(\u001b[0m\u001b[0mtokenized_num\u001b[0m\u001b[1;33m[\u001b[0m\u001b[1;33m-\u001b[0m\u001b[1;36m1\u001b[0m\u001b[1;33m]\u001b[0m\u001b[1;33m[\u001b[0m\u001b[1;36m1\u001b[0m\u001b[1;33m:\u001b[0m\u001b[1;36m5\u001b[0m\u001b[1;33m]\u001b[0m\u001b[1;33m)\u001b[0m\u001b[1;33m\u001b[0m\u001b[1;33m\u001b[0m\u001b[0m\n\u001b[0m\u001b[0;32m      6\u001b[0m \u001b[0mpho\u001b[0m \u001b[1;33m=\u001b[0m \u001b[0mfloat\u001b[0m\u001b[1;33m(\u001b[0m\u001b[0mtokenized_num\u001b[0m\u001b[1;33m[\u001b[0m\u001b[1;36m4\u001b[0m\u001b[1;33m]\u001b[0m\u001b[1;33m[\u001b[0m\u001b[1;36m1\u001b[0m\u001b[1;33m:\u001b[0m\u001b[1;36m5\u001b[0m\u001b[1;33m]\u001b[0m\u001b[1;33m)\u001b[0m \u001b[1;33m+\u001b[0m \u001b[1;33m(\u001b[0m\u001b[0mint\u001b[0m\u001b[1;33m(\u001b[0m\u001b[0mtokenized_num\u001b[0m\u001b[1;33m[\u001b[0m\u001b[1;36m1\u001b[0m\u001b[1;33m]\u001b[0m\u001b[1;33m)\u001b[0m \u001b[1;33m-\u001b[0m \u001b[0mint\u001b[0m\u001b[1;33m(\u001b[0m\u001b[0mtokenized_num\u001b[0m\u001b[1;33m[\u001b[0m\u001b[1;36m2\u001b[0m\u001b[1;33m]\u001b[0m\u001b[1;33m)\u001b[0m\u001b[1;33m)\u001b[0m\u001b[1;33m/\u001b[0m\u001b[0mint\u001b[0m\u001b[1;33m(\u001b[0m\u001b[0mtokenized_num\u001b[0m\u001b[1;33m[\u001b[0m\u001b[1;36m3\u001b[0m\u001b[1;33m]\u001b[0m\u001b[1;33m)\u001b[0m\u001b[1;33m\u001b[0m\u001b[1;33m\u001b[0m\u001b[0m\n\u001b[0;32m      7\u001b[0m \u001b[0mprint\u001b[0m\u001b[1;33m(\u001b[0m\u001b[0mpho\u001b[0m\u001b[1;33m)\u001b[0m\u001b[1;33m\u001b[0m\u001b[1;33m\u001b[0m\u001b[0m\n",
      "\u001b[1;31mIndexError\u001b[0m: list index out of range"
     ]
    }
   ],
   "source": [
    "tokenized = news[0]['body'].split(' ')\n",
    "tokenized_num = [i for i in tokenized if any(map(str.isdigit, i))]\n",
    "print(tokenized)\n",
    "print(tokenized_num)\n",
    "print(tokenized_num[-1][1:5])\n",
    "pho = float(tokenized_num[4][1:5]) + (int(tokenized_num[1]) - int(tokenized_num[2]))/int(tokenized_num[3])\n",
    "print(pho)"
   ]
  },
  {
   "cell_type": "code",
   "execution_count": null,
   "metadata": {},
   "outputs": [
    {
     "name": "stdout",
     "output_type": "stream",
     "text": [
      "2\n",
      "             REFINER'S HEATING OIL MARKET REPORT for Week 1\n",
      "Price of HO                                             2.5\n",
      "2\n",
      "2\n",
      "2\n",
      "2\n",
      "2\n",
      "2\n",
      "2\n",
      "2\n",
      "2\n",
      "2\n",
      "2\n",
      "2\n",
      "2\n",
      "2\n",
      "2\n",
      "2\n",
      "2\n",
      "2\n",
      "2\n",
      "2\n",
      "2\n",
      "2\n",
      "2\n",
      "2\n",
      "2\n",
      "2\n",
      "2\n",
      "2\n",
      "2\n",
      "2\n",
      "2\n",
      "2\n",
      "2\n",
      "2\n",
      "2\n",
      "2\n",
      "2\n",
      "2\n",
      "2\n",
      "2\n",
      "2\n",
      "2\n",
      "2\n",
      "2\n",
      "2\n",
      "2\n",
      "2\n",
      "2\n",
      "2\n",
      "2\n"
     ]
    }
   ],
   "source": [
    "news = []\n",
    "count = 1 #CHANGE ACCORDING TO THE CURRENT WEEK \n",
    "\n",
    "while True:\n",
    "    with requests.Session() as s:\n",
    "        s.headers.update(API_KEY) \n",
    "        resp = s.get('http://localhost:9999/v1/news')\n",
    "        if resp.ok:\n",
    "            news = resp.json()\n",
    "        else:\n",
    "            print('API Error!')\n",
    "    if news[0]['news_id'] % 2 == 0:\n",
    "        headline = news[0]['headline']\n",
    "        week = int(news[0]['headline'][-1])\n",
    "        tokenized = news[0]['body'].split(' ')\n",
    "        tokenized_num = [i for i in tokenized if any(map(str.isdigit, i))]\n",
    "        pho = float(tokenized_num[4][1:4]) + (int(tokenized_num[1]) - int(tokenized_num[2]))/int(tokenized_num[3])\n",
    "\n",
    "        df_news = pd.DataFrame({headline:[pho]}, index =['Price of HO']) \n",
    "\n",
    "        if week == count:\n",
    "            print(df_news)\n",
    "            count += 1\n",
    "        \n",
    "    time.sleep(1)"
   ]
  },
  {
   "cell_type": "code",
   "execution_count": null,
   "metadata": {},
   "outputs": [],
   "source": []
  }
 ],
 "metadata": {
  "kernelspec": {
   "display_name": "Python 3",
   "language": "python",
   "name": "python3"
  },
  "language_info": {
   "codemirror_mode": {
    "name": "ipython",
    "version": 3
   },
   "file_extension": ".py",
   "mimetype": "text/x-python",
   "name": "python",
   "nbconvert_exporter": "python",
   "pygments_lexer": "ipython3",
   "version": "3.8.5"
  }
 },
 "nbformat": 4,
 "nbformat_minor": 4
}
