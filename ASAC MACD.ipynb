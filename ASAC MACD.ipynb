{
 "cells": [
  {
   "cell_type": "markdown",
   "metadata": {},
   "source": [
    "## Import Libraries and Declare API Key"
   ]
  },
  {
   "cell_type": "code",
   "execution_count": 55,
   "metadata": {},
   "outputs": [],
   "source": [
    "import requests\n",
    "import pandas as pd\n",
    "import numpy as np\n",
    "import signal\n",
    "import matplotlib.pyplot as plt"
   ]
  },
  {
   "cell_type": "code",
   "execution_count": 56,
   "metadata": {},
   "outputs": [],
   "source": [
    "API_KEY = {'X-API-key': 'RPCJTKLW'}"
   ]
  },
  {
   "cell_type": "markdown",
   "metadata": {},
   "source": [
    "## Accesing the Past Heat History"
   ]
  },
  {
   "cell_type": "markdown",
   "metadata": {},
   "source": [
    "### Historical Data Retrieval"
   ]
  },
  {
   "cell_type": "code",
   "execution_count": 57,
   "metadata": {},
   "outputs": [],
   "source": [
    "df_ngn = None\n",
    "df_whel = None\n",
    "df_gear = None\n",
    "df_rsm = None\n",
    "\n",
    "with requests.Session() as s:\n",
    "    s.headers.update(API_KEY)\n",
    "    resp1 = s.get('http://localhost:9999/v1/securities/history', params = {'ticker' : 'NGN'})\n",
    "    resp2 = s.get('http://localhost:9999/v1/securities/history', params = {'ticker' : 'WHEL'})\n",
    "    resp3 = s.get('http://localhost:9999/v1/securities/history', params = {'ticker' : 'GEAR'})\n",
    "    resp4 = s.get('http://localhost:9999/v1/securities/history', params = {'ticker' : 'RSM1000'})\n",
    "    if resp1.ok and resp2.ok and resp3.ok and resp4.ok:\n",
    "        book1 = resp1.json()\n",
    "        book2 = resp2.json()\n",
    "        book3 = resp3.json()\n",
    "        book4 = resp4.json()\n",
    "        df_ngn = pd.DataFrame(book1)\n",
    "        df_whel = pd.DataFrame(book2)\n",
    "        df_gear = pd.DataFrame(book3)\n",
    "        df_rsm = pd.DataFrame(book4)\n",
    "    else:\n",
    "        print('request denied.')"
   ]
  },
  {
   "cell_type": "code",
   "execution_count": 58,
   "metadata": {
    "scrolled": true
   },
   "outputs": [
    {
     "data": {
      "text/html": [
       "<div>\n",
       "<style scoped>\n",
       "    .dataframe tbody tr th:only-of-type {\n",
       "        vertical-align: middle;\n",
       "    }\n",
       "\n",
       "    .dataframe tbody tr th {\n",
       "        vertical-align: top;\n",
       "    }\n",
       "\n",
       "    .dataframe thead th {\n",
       "        text-align: right;\n",
       "    }\n",
       "</style>\n",
       "<table border=\"1\" class=\"dataframe\">\n",
       "  <thead>\n",
       "    <tr style=\"text-align: right;\">\n",
       "      <th></th>\n",
       "      <th>tick</th>\n",
       "      <th>open</th>\n",
       "      <th>high</th>\n",
       "      <th>low</th>\n",
       "      <th>close</th>\n",
       "    </tr>\n",
       "  </thead>\n",
       "  <tbody>\n",
       "    <tr>\n",
       "      <th>0</th>\n",
       "      <td>101</td>\n",
       "      <td>24.34</td>\n",
       "      <td>24.34</td>\n",
       "      <td>24.34</td>\n",
       "      <td>24.34</td>\n",
       "    </tr>\n",
       "    <tr>\n",
       "      <th>1</th>\n",
       "      <td>100</td>\n",
       "      <td>24.31</td>\n",
       "      <td>24.34</td>\n",
       "      <td>24.31</td>\n",
       "      <td>24.34</td>\n",
       "    </tr>\n",
       "    <tr>\n",
       "      <th>2</th>\n",
       "      <td>99</td>\n",
       "      <td>24.32</td>\n",
       "      <td>24.32</td>\n",
       "      <td>24.31</td>\n",
       "      <td>24.31</td>\n",
       "    </tr>\n",
       "    <tr>\n",
       "      <th>3</th>\n",
       "      <td>98</td>\n",
       "      <td>24.38</td>\n",
       "      <td>24.38</td>\n",
       "      <td>24.32</td>\n",
       "      <td>24.32</td>\n",
       "    </tr>\n",
       "    <tr>\n",
       "      <th>4</th>\n",
       "      <td>97</td>\n",
       "      <td>24.57</td>\n",
       "      <td>24.57</td>\n",
       "      <td>24.38</td>\n",
       "      <td>24.38</td>\n",
       "    </tr>\n",
       "    <tr>\n",
       "      <th>...</th>\n",
       "      <td>...</td>\n",
       "      <td>...</td>\n",
       "      <td>...</td>\n",
       "      <td>...</td>\n",
       "      <td>...</td>\n",
       "    </tr>\n",
       "    <tr>\n",
       "      <th>96</th>\n",
       "      <td>5</td>\n",
       "      <td>24.96</td>\n",
       "      <td>24.96</td>\n",
       "      <td>24.88</td>\n",
       "      <td>24.88</td>\n",
       "    </tr>\n",
       "    <tr>\n",
       "      <th>97</th>\n",
       "      <td>4</td>\n",
       "      <td>25.12</td>\n",
       "      <td>25.12</td>\n",
       "      <td>24.96</td>\n",
       "      <td>24.96</td>\n",
       "    </tr>\n",
       "    <tr>\n",
       "      <th>98</th>\n",
       "      <td>3</td>\n",
       "      <td>25.12</td>\n",
       "      <td>25.12</td>\n",
       "      <td>25.12</td>\n",
       "      <td>25.12</td>\n",
       "    </tr>\n",
       "    <tr>\n",
       "      <th>99</th>\n",
       "      <td>2</td>\n",
       "      <td>25.04</td>\n",
       "      <td>25.13</td>\n",
       "      <td>25.04</td>\n",
       "      <td>25.12</td>\n",
       "    </tr>\n",
       "    <tr>\n",
       "      <th>100</th>\n",
       "      <td>1</td>\n",
       "      <td>25.00</td>\n",
       "      <td>25.04</td>\n",
       "      <td>25.00</td>\n",
       "      <td>25.04</td>\n",
       "    </tr>\n",
       "  </tbody>\n",
       "</table>\n",
       "<p>101 rows × 5 columns</p>\n",
       "</div>"
      ],
      "text/plain": [
       "     tick   open   high    low  close\n",
       "0     101  24.34  24.34  24.34  24.34\n",
       "1     100  24.31  24.34  24.31  24.34\n",
       "2      99  24.32  24.32  24.31  24.31\n",
       "3      98  24.38  24.38  24.32  24.32\n",
       "4      97  24.57  24.57  24.38  24.38\n",
       "..    ...    ...    ...    ...    ...\n",
       "96      5  24.96  24.96  24.88  24.88\n",
       "97      4  25.12  25.12  24.96  24.96\n",
       "98      3  25.12  25.12  25.12  25.12\n",
       "99      2  25.04  25.13  25.04  25.12\n",
       "100     1  25.00  25.04  25.00  25.04\n",
       "\n",
       "[101 rows x 5 columns]"
      ]
     },
     "execution_count": 58,
     "metadata": {},
     "output_type": "execute_result"
    }
   ],
   "source": [
    "df_gear"
   ]
  },
  {
   "cell_type": "code",
   "execution_count": 59,
   "metadata": {},
   "outputs": [
    {
     "data": {
      "text/html": [
       "<div>\n",
       "<style scoped>\n",
       "    .dataframe tbody tr th:only-of-type {\n",
       "        vertical-align: middle;\n",
       "    }\n",
       "\n",
       "    .dataframe tbody tr th {\n",
       "        vertical-align: top;\n",
       "    }\n",
       "\n",
       "    .dataframe thead th {\n",
       "        text-align: right;\n",
       "    }\n",
       "</style>\n",
       "<table border=\"1\" class=\"dataframe\">\n",
       "  <thead>\n",
       "    <tr style=\"text-align: right;\">\n",
       "      <th></th>\n",
       "      <th>tick</th>\n",
       "      <th>open</th>\n",
       "      <th>high</th>\n",
       "      <th>low</th>\n",
       "      <th>close</th>\n",
       "    </tr>\n",
       "  </thead>\n",
       "  <tbody>\n",
       "    <tr>\n",
       "      <th>100</th>\n",
       "      <td>1</td>\n",
       "      <td>100.00</td>\n",
       "      <td>100.02</td>\n",
       "      <td>100.00</td>\n",
       "      <td>100.02</td>\n",
       "    </tr>\n",
       "    <tr>\n",
       "      <th>99</th>\n",
       "      <td>2</td>\n",
       "      <td>100.02</td>\n",
       "      <td>100.02</td>\n",
       "      <td>99.02</td>\n",
       "      <td>99.02</td>\n",
       "    </tr>\n",
       "    <tr>\n",
       "      <th>98</th>\n",
       "      <td>3</td>\n",
       "      <td>99.02</td>\n",
       "      <td>99.28</td>\n",
       "      <td>99.02</td>\n",
       "      <td>99.28</td>\n",
       "    </tr>\n",
       "    <tr>\n",
       "      <th>97</th>\n",
       "      <td>4</td>\n",
       "      <td>99.28</td>\n",
       "      <td>99.66</td>\n",
       "      <td>99.28</td>\n",
       "      <td>99.66</td>\n",
       "    </tr>\n",
       "    <tr>\n",
       "      <th>96</th>\n",
       "      <td>5</td>\n",
       "      <td>99.66</td>\n",
       "      <td>99.87</td>\n",
       "      <td>99.66</td>\n",
       "      <td>99.87</td>\n",
       "    </tr>\n",
       "    <tr>\n",
       "      <th>...</th>\n",
       "      <td>...</td>\n",
       "      <td>...</td>\n",
       "      <td>...</td>\n",
       "      <td>...</td>\n",
       "      <td>...</td>\n",
       "    </tr>\n",
       "    <tr>\n",
       "      <th>4</th>\n",
       "      <td>97</td>\n",
       "      <td>103.22</td>\n",
       "      <td>104.04</td>\n",
       "      <td>103.22</td>\n",
       "      <td>104.04</td>\n",
       "    </tr>\n",
       "    <tr>\n",
       "      <th>3</th>\n",
       "      <td>98</td>\n",
       "      <td>104.04</td>\n",
       "      <td>104.34</td>\n",
       "      <td>104.04</td>\n",
       "      <td>104.34</td>\n",
       "    </tr>\n",
       "    <tr>\n",
       "      <th>2</th>\n",
       "      <td>99</td>\n",
       "      <td>104.34</td>\n",
       "      <td>104.96</td>\n",
       "      <td>104.34</td>\n",
       "      <td>104.96</td>\n",
       "    </tr>\n",
       "    <tr>\n",
       "      <th>1</th>\n",
       "      <td>100</td>\n",
       "      <td>104.96</td>\n",
       "      <td>104.96</td>\n",
       "      <td>104.89</td>\n",
       "      <td>104.89</td>\n",
       "    </tr>\n",
       "    <tr>\n",
       "      <th>0</th>\n",
       "      <td>101</td>\n",
       "      <td>104.89</td>\n",
       "      <td>104.91</td>\n",
       "      <td>104.89</td>\n",
       "      <td>104.91</td>\n",
       "    </tr>\n",
       "  </tbody>\n",
       "</table>\n",
       "<p>101 rows × 5 columns</p>\n",
       "</div>"
      ],
      "text/plain": [
       "     tick    open    high     low   close\n",
       "100     1  100.00  100.02  100.00  100.02\n",
       "99      2  100.02  100.02   99.02   99.02\n",
       "98      3   99.02   99.28   99.02   99.28\n",
       "97      4   99.28   99.66   99.28   99.66\n",
       "96      5   99.66   99.87   99.66   99.87\n",
       "..    ...     ...     ...     ...     ...\n",
       "4      97  103.22  104.04  103.22  104.04\n",
       "3      98  104.04  104.34  104.04  104.34\n",
       "2      99  104.34  104.96  104.34  104.96\n",
       "1     100  104.96  104.96  104.89  104.89\n",
       "0     101  104.89  104.91  104.89  104.91\n",
       "\n",
       "[101 rows x 5 columns]"
      ]
     },
     "execution_count": 59,
     "metadata": {},
     "output_type": "execute_result"
    }
   ],
   "source": [
    "df_rsm.iloc[::-1]"
   ]
  },
  {
   "cell_type": "code",
   "execution_count": 60,
   "metadata": {},
   "outputs": [],
   "source": [
    "import talib"
   ]
  },
  {
   "cell_type": "code",
   "execution_count": 63,
   "metadata": {},
   "outputs": [
    {
     "data": {
      "text/plain": [
       "[<matplotlib.lines.Line2D at 0x25c70fa9190>]"
      ]
     },
     "execution_count": 63,
     "metadata": {},
     "output_type": "execute_result"
    },
    {
     "data": {
      "image/png": "[encoded data removed]",
      "text/plain": [
       "<Figure size 432x288 with 1 Axes>"
      ]
     },
     "metadata": {
      "needs_background": "light"
     },
     "output_type": "display_data"
    }
   ],
   "source": [
    "macd, macdsignal, macdhist = talib.MACD(df_gear['close'].values, 5 , 12, 5)\n",
    "plt.plot(df_gear['close'].values)"
   ]
  },
  {
   "cell_type": "code",
   "execution_count": 64,
   "metadata": {},
   "outputs": [
    {
     "name": "stdout",
     "output_type": "stream",
     "text": [
      "[        nan         nan         nan         nan         nan         nan\n",
      "         nan         nan         nan         nan         nan         nan\n",
      "         nan         nan         nan -0.03871403 -0.02961656 -0.04805861\n",
      " -0.0392215  -0.02343442 -0.00148376  0.00690452 -0.00220043 -0.02458826\n",
      " -0.02120794 -0.03231285 -0.02238803 -0.00595326  0.01367136  0.02356004\n",
      "  0.02760971  0.04382024  0.03940698  0.0381255   0.01366844 -0.01774129\n",
      " -0.02548292 -0.02369517 -0.01584639 -0.00326639  0.00530102  0.00594474\n",
      "  0.00817778  0.00927134  0.00718844  0.00655512  0.01245147  0.00636985\n",
      "  0.00873221  0.00292756 -0.00734979 -0.00537307 -0.00742701 -0.01528746\n",
      " -0.01169357 -0.00663039  0.00776255 -0.00457328 -0.00911311 -0.00735733\n",
      "  0.00255957 -0.00303024 -0.01459312  0.00024735  0.00200751 -0.01466407\n",
      " -0.02545158 -0.02806526 -0.01349374 -0.01279288 -0.00764279 -0.0159722\n",
      " -0.00726088  0.01120578  0.01068974  0.01969694  0.0207595   0.01948533\n",
      "  0.02919382  0.02403882  0.00423581 -0.01400413 -0.01378404 -0.00522903\n",
      " -0.01532752 -0.02558012 -0.0144679   0.00293176  0.0135399   0.00150976\n",
      "  0.00703116  0.01684534  0.03579708  0.0386161   0.03779177  0.03270608\n",
      "  0.02876472  0.02905918  0.03996965  0.03308563  0.01060705]\n"
     ]
    },
    {
     "data": {
      "image/png": "[encoded data removed]",
      "text/plain": [
       "<Figure size 432x288 with 1 Axes>"
      ]
     },
     "metadata": {
      "needs_background": "light"
     },
     "output_type": "display_data"
    }
   ],
   "source": [
    "plt.plot(macdsignal)\n",
    "plt.plot(macd)\n",
    "plt.plot(macdhist)\n",
    "print(macdhist)"
   ]
  },
  {
   "cell_type": "code",
   "execution_count": 8,
   "metadata": {},
   "outputs": [
    {
     "data": {
      "text/html": [
       "<div>\n",
       "<style scoped>\n",
       "    .dataframe tbody tr th:only-of-type {\n",
       "        vertical-align: middle;\n",
       "    }\n",
       "\n",
       "    .dataframe tbody tr th {\n",
       "        vertical-align: top;\n",
       "    }\n",
       "\n",
       "    .dataframe thead th {\n",
       "        text-align: right;\n",
       "    }\n",
       "</style>\n",
       "<table border=\"1\" class=\"dataframe\">\n",
       "  <thead>\n",
       "    <tr style=\"text-align: right;\">\n",
       "      <th></th>\n",
       "      <th>RSM1000</th>\n",
       "      <th>GEAR</th>\n",
       "      <th>WHEL</th>\n",
       "      <th>NGN</th>\n",
       "    </tr>\n",
       "  </thead>\n",
       "  <tbody>\n",
       "    <tr>\n",
       "      <th>299</th>\n",
       "      <td>98.77</td>\n",
       "      <td>25.46</td>\n",
       "      <td>24.56</td>\n",
       "      <td>25.47</td>\n",
       "    </tr>\n",
       "    <tr>\n",
       "      <th>298</th>\n",
       "      <td>97.79</td>\n",
       "      <td>25.83</td>\n",
       "      <td>24.20</td>\n",
       "      <td>25.78</td>\n",
       "    </tr>\n",
       "    <tr>\n",
       "      <th>297</th>\n",
       "      <td>97.99</td>\n",
       "      <td>25.68</td>\n",
       "      <td>24.26</td>\n",
       "      <td>25.74</td>\n",
       "    </tr>\n",
       "    <tr>\n",
       "      <th>296</th>\n",
       "      <td>98.10</td>\n",
       "      <td>25.65</td>\n",
       "      <td>24.32</td>\n",
       "      <td>25.65</td>\n",
       "    </tr>\n",
       "    <tr>\n",
       "      <th>295</th>\n",
       "      <td>98.65</td>\n",
       "      <td>25.47</td>\n",
       "      <td>24.53</td>\n",
       "      <td>25.37</td>\n",
       "    </tr>\n",
       "    <tr>\n",
       "      <th>...</th>\n",
       "      <td>...</td>\n",
       "      <td>...</td>\n",
       "      <td>...</td>\n",
       "      <td>...</td>\n",
       "    </tr>\n",
       "    <tr>\n",
       "      <th>4</th>\n",
       "      <td>110.63</td>\n",
       "      <td>21.66</td>\n",
       "      <td>28.57</td>\n",
       "      <td>21.41</td>\n",
       "    </tr>\n",
       "    <tr>\n",
       "      <th>3</th>\n",
       "      <td>110.20</td>\n",
       "      <td>21.75</td>\n",
       "      <td>28.41</td>\n",
       "      <td>21.57</td>\n",
       "    </tr>\n",
       "    <tr>\n",
       "      <th>2</th>\n",
       "      <td>110.33</td>\n",
       "      <td>21.77</td>\n",
       "      <td>28.42</td>\n",
       "      <td>21.52</td>\n",
       "    </tr>\n",
       "    <tr>\n",
       "      <th>1</th>\n",
       "      <td>111.02</td>\n",
       "      <td>21.47</td>\n",
       "      <td>28.65</td>\n",
       "      <td>21.27</td>\n",
       "    </tr>\n",
       "    <tr>\n",
       "      <th>0</th>\n",
       "      <td>110.50</td>\n",
       "      <td>21.63</td>\n",
       "      <td>28.54</td>\n",
       "      <td>21.46</td>\n",
       "    </tr>\n",
       "  </tbody>\n",
       "</table>\n",
       "<p>300 rows Ã— 4 columns</p>\n",
       "</div>"
      ],
      "text/plain": [
       "     RSM1000   GEAR   WHEL    NGN\n",
       "299    98.77  25.46  24.56  25.47\n",
       "298    97.79  25.83  24.20  25.78\n",
       "297    97.99  25.68  24.26  25.74\n",
       "296    98.10  25.65  24.32  25.65\n",
       "295    98.65  25.47  24.53  25.37\n",
       "..       ...    ...    ...    ...\n",
       "4     110.63  21.66  28.57  21.41\n",
       "3     110.20  21.75  28.41  21.57\n",
       "2     110.33  21.77  28.42  21.52\n",
       "1     111.02  21.47  28.65  21.27\n",
       "0     110.50  21.63  28.54  21.46\n",
       "\n",
       "[300 rows x 4 columns]"
      ]
     },
     "execution_count": 8,
     "metadata": {},
     "output_type": "execute_result"
    }
   ],
   "source": [
    "pd_new = pd.concat([df_rsm['close'].rename('RSM1000'), df_gear['close'].rename('GEAR')\n",
    "                    , df_whel['close'].rename('WHEL'), df_ngn['close'].rename('NGN')], axis = 1)\n",
    "pd_new = pd_new.iloc[::-1]\n",
    "pd_new"
   ]
  },
  {
   "cell_type": "markdown",
   "metadata": {},
   "source": [
    "### Observed Historical Correlation"
   ]
  },
  {
   "cell_type": "code",
   "execution_count": 9,
   "metadata": {},
   "outputs": [
    {
     "data": {
      "text/html": [
       "<style  type=\"text/css\" >\n",
       "</style><table id=\"T_46180835_f6c3_11eb_a729_00e18c41be92\" ><caption>Observed Historical Correlation</caption><thead>    <tr>        <th class=\"blank level0\" ></th>        <th class=\"col_heading level0 col0\" >RSM1000</th>        <th class=\"col_heading level0 col1\" >GEAR</th>        <th class=\"col_heading level0 col2\" >WHEL</th>        <th class=\"col_heading level0 col3\" >NGN</th>    </tr></thead><tbody>\n",
       "                <tr>\n",
       "                        <th id=\"T_46180835_f6c3_11eb_a729_00e18c41be92level0_row0\" class=\"row_heading level0 row0\" >RSM1000</th>\n",
       "                        <td id=\"T_46180835_f6c3_11eb_a729_00e18c41be92row0_col0\" class=\"data row0 col0\" >1.000000</td>\n",
       "                        <td id=\"T_46180835_f6c3_11eb_a729_00e18c41be92row0_col1\" class=\"data row0 col1\" >-0.983630</td>\n",
       "                        <td id=\"T_46180835_f6c3_11eb_a729_00e18c41be92row0_col2\" class=\"data row0 col2\" >0.993338</td>\n",
       "                        <td id=\"T_46180835_f6c3_11eb_a729_00e18c41be92row0_col3\" class=\"data row0 col3\" >-0.988794</td>\n",
       "            </tr>\n",
       "            <tr>\n",
       "                        <th id=\"T_46180835_f6c3_11eb_a729_00e18c41be92level0_row1\" class=\"row_heading level0 row1\" >GEAR</th>\n",
       "                        <td id=\"T_46180835_f6c3_11eb_a729_00e18c41be92row1_col0\" class=\"data row1 col0\" >-0.983630</td>\n",
       "                        <td id=\"T_46180835_f6c3_11eb_a729_00e18c41be92row1_col1\" class=\"data row1 col1\" >1.000000</td>\n",
       "                        <td id=\"T_46180835_f6c3_11eb_a729_00e18c41be92row1_col2\" class=\"data row1 col2\" >-0.978415</td>\n",
       "                        <td id=\"T_46180835_f6c3_11eb_a729_00e18c41be92row1_col3\" class=\"data row1 col3\" >0.982953</td>\n",
       "            </tr>\n",
       "            <tr>\n",
       "                        <th id=\"T_46180835_f6c3_11eb_a729_00e18c41be92level0_row2\" class=\"row_heading level0 row2\" >WHEL</th>\n",
       "                        <td id=\"T_46180835_f6c3_11eb_a729_00e18c41be92row2_col0\" class=\"data row2 col0\" >0.993338</td>\n",
       "                        <td id=\"T_46180835_f6c3_11eb_a729_00e18c41be92row2_col1\" class=\"data row2 col1\" >-0.978415</td>\n",
       "                        <td id=\"T_46180835_f6c3_11eb_a729_00e18c41be92row2_col2\" class=\"data row2 col2\" >1.000000</td>\n",
       "                        <td id=\"T_46180835_f6c3_11eb_a729_00e18c41be92row2_col3\" class=\"data row2 col3\" >-0.972571</td>\n",
       "            </tr>\n",
       "            <tr>\n",
       "                        <th id=\"T_46180835_f6c3_11eb_a729_00e18c41be92level0_row3\" class=\"row_heading level0 row3\" >NGN</th>\n",
       "                        <td id=\"T_46180835_f6c3_11eb_a729_00e18c41be92row3_col0\" class=\"data row3 col0\" >-0.988794</td>\n",
       "                        <td id=\"T_46180835_f6c3_11eb_a729_00e18c41be92row3_col1\" class=\"data row3 col1\" >0.982953</td>\n",
       "                        <td id=\"T_46180835_f6c3_11eb_a729_00e18c41be92row3_col2\" class=\"data row3 col2\" >-0.972571</td>\n",
       "                        <td id=\"T_46180835_f6c3_11eb_a729_00e18c41be92row3_col3\" class=\"data row3 col3\" >1.000000</td>\n",
       "            </tr>\n",
       "    </tbody></table>"
      ],
      "text/plain": [
       "<pandas.io.formats.style.Styler at 0x168f41d6190>"
      ]
     },
     "execution_count": 9,
     "metadata": {},
     "output_type": "execute_result"
    }
   ],
   "source": [
    " corr_df = pd_new.corr(method='pearson')\n",
    " #reset symbol as index (rather than 0-X)\n",
    " corr_df.head().reset_index()\n",
    " corr_df.head(10)\n",
    "corr_df.style.set_caption(\"Observed Historical Correlation\")"
   ]
  },
  {
   "cell_type": "markdown",
   "metadata": {},
   "source": [
    "### Observed Historical Volatillity"
   ]
  },
  {
   "cell_type": "code",
   "execution_count": 10,
   "metadata": {},
   "outputs": [],
   "source": [
    "def volatility(data):\n",
    "    data['Log returns'] = np.log(data['close']/data['close'].shift())\n",
    "    volatility = data['Log returns'].std()*1200**.5\n",
    "    return volatility"
   ]
  },
  {
   "cell_type": "code",
   "execution_count": 11,
   "metadata": {},
   "outputs": [
    {
     "data": {
      "text/html": [
       "<style  type=\"text/css\" >\n",
       "</style><table id=\"T_46216c30_f6c3_11eb_a797_00e18c41be92\" ><caption>Observed Historical Volatillity</caption><thead>    <tr>        <th class=\"blank level0\" ></th>        <th class=\"col_heading level0 col0\" >RSM1000</th>        <th class=\"col_heading level0 col1\" >GEAR</th>        <th class=\"col_heading level0 col2\" >WHEL</th>        <th class=\"col_heading level0 col3\" >NGN</th>    </tr></thead><tbody>\n",
       "                <tr>\n",
       "                        <th id=\"T_46216c30_f6c3_11eb_a797_00e18c41be92level0_row0\" class=\"row_heading level0 row0\" >0</th>\n",
       "                        <td id=\"T_46216c30_f6c3_11eb_a797_00e18c41be92row0_col0\" class=\"data row0 col0\" >0.150262</td>\n",
       "                        <td id=\"T_46216c30_f6c3_11eb_a797_00e18c41be92row0_col1\" class=\"data row0 col1\" >0.238427</td>\n",
       "                        <td id=\"T_46216c30_f6c3_11eb_a797_00e18c41be92row0_col2\" class=\"data row0 col2\" >0.220240</td>\n",
       "                        <td id=\"T_46216c30_f6c3_11eb_a797_00e18c41be92row0_col3\" class=\"data row0 col3\" >0.237979</td>\n",
       "            </tr>\n",
       "    </tbody></table>"
      ],
      "text/plain": [
       "<pandas.io.formats.style.Styler at 0x168f526cd30>"
      ]
     },
     "execution_count": 11,
     "metadata": {},
     "output_type": "execute_result"
    }
   ],
   "source": [
    "lst = [[volatility(df_rsm), volatility(df_gear), volatility(df_whel), volatility(df_ngn)]]\n",
    "df_vol = pd.DataFrame(lst, columns =['RSM1000', 'GEAR', 'WHEL', 'NGN'])\n",
    "df_vol.style.set_caption(\"Observed Historical Volatillity\")"
   ]
  },
  {
   "cell_type": "markdown",
   "metadata": {},
   "source": [
    "### Observed Historical Beta"
   ]
  },
  {
   "cell_type": "code",
   "execution_count": 12,
   "metadata": {},
   "outputs": [],
   "source": [
    "def market_beta(name):\n",
    "    data = None\n",
    "    if name == 'NGN':\n",
    "        data = df_ngn\n",
    "    elif name == 'WHEL':\n",
    "        data = df_whel\n",
    "    else:\n",
    "        data = df_gear\n",
    "        \n",
    "    df_rsm['Log returns'] = np.log(df_rsm['close']/df_rsm['close'].shift())\n",
    "    data['Log returns'] = np.log(data['close']/data['close'].shift())\n",
    "    \n",
    "    beta = corr_df['RSM1000'][name] * (data['Log returns'].std() / df_rsm['Log returns'].std())\n",
    "    return beta  "
   ]
  },
  {
   "cell_type": "code",
   "execution_count": 13,
   "metadata": {},
   "outputs": [
    {
     "data": {
      "text/html": [
       "<style  type=\"text/css\" >\n",
       "</style><table id=\"T_46270c67_f6c3_11eb_8b36_00e18c41be92\" ><caption>Observed Historical Beta</caption><thead>    <tr>        <th class=\"blank level0\" ></th>        <th class=\"col_heading level0 col0\" >GEAR</th>        <th class=\"col_heading level0 col1\" >WHEL</th>        <th class=\"col_heading level0 col2\" >NGN</th>    </tr></thead><tbody>\n",
       "                <tr>\n",
       "                        <th id=\"T_46270c67_f6c3_11eb_8b36_00e18c41be92level0_row0\" class=\"row_heading level0 row0\" >0</th>\n",
       "                        <td id=\"T_46270c67_f6c3_11eb_8b36_00e18c41be92row0_col0\" class=\"data row0 col0\" >-1.560771</td>\n",
       "                        <td id=\"T_46270c67_f6c3_11eb_8b36_00e18c41be92row0_col1\" class=\"data row0 col1\" >1.455943</td>\n",
       "                        <td id=\"T_46270c67_f6c3_11eb_8b36_00e18c41be92row0_col2\" class=\"data row0 col2\" >-1.566015</td>\n",
       "            </tr>\n",
       "    </tbody></table>"
      ],
      "text/plain": [
       "<pandas.io.formats.style.Styler at 0x168f7789160>"
      ]
     },
     "execution_count": 13,
     "metadata": {},
     "output_type": "execute_result"
    }
   ],
   "source": [
    "lst = [[market_beta('GEAR'), market_beta('WHEL'), market_beta('NGN')]]\n",
    "df_bet = pd.DataFrame(lst, columns =['GEAR', 'WHEL', 'NGN'])\n",
    "df_bet.style.set_caption(\"Observed Historical Beta\")"
   ]
  },
  {
   "cell_type": "markdown",
   "metadata": {},
   "source": [
    "## Current Heat Trading Algorithm"
   ]
  },
  {
   "cell_type": "markdown",
   "metadata": {},
   "source": [
    "### Basic Buy and Sell Functions"
   ]
  },
  {
   "cell_type": "code",
   "execution_count": 18,
   "metadata": {},
   "outputs": [],
   "source": [
    "shutdown = False\n",
    "\n",
    "class ApiException(Exception):\n",
    "    pass\n",
    "\n",
    "def signal_handler(signum, frame):\n",
    "    global shutdown\n",
    "    signal.signal(signal.SIGINT, signal.SIG_DFL)\n",
    "    shutdown = True\n",
    "\n",
    "def get_tick(session):\n",
    "    resp = session.get('http://localhost:9999/v1/case')\n",
    "    if resp.ok:\n",
    "        case = resp.json()\n",
    "        return case['tick']\n",
    "    raise ApiException('Authorization error. Please check API key.')\n",
    "\n",
    "def ticker_bid_ask(session, ticker):\n",
    "    payload = {'ticker': ticker}\n",
    "    resp = session.get('http://localhost:9999/v1/securities/book', params = payload)\n",
    "    if resp.ok:\n",
    "        book = resp.json()\n",
    "        return book['bids'][0]['price'], book['asks'][0]['price']\n",
    "    raise ApiException('Authorization error. Please check API key.')\n",
    "\n",
    "def buy(session, ticker, type, q, price = None):\n",
    "    if type == 'MARKET':\n",
    "        resp = session.post('http://localhost:9999/v1/orders', params = {'ticker': ticker, 'type': 'MARKET', 'quantity': q, 'action': 'BUY'})\n",
    "        if resp.ok:\n",
    "            mkt_order = resp.json()\n",
    "            id = mkt_order['order_id']\n",
    "            print('The market buy order was submitted and has ID', id)\n",
    "        else:\n",
    "            print('The order was not successfully submitted!')\n",
    "    else:\n",
    "        resp = session.post('http://localhost:9999/v1/orders',\n",
    "                            params={'ticker': ticker, 'type': 'LIMIT', 'quantity': q, 'action': 'BUY', 'price': price})\n",
    "        if resp.ok:\n",
    "            mkt_order = resp.json()\n",
    "            id = mkt_order['order_id']\n",
    "            print('The market buy order was submitted and has ID', id)\n",
    "        else:\n",
    "            print('The order was not successfully submitted!')\n",
    "\n",
    "def sell(session, ticker, type, q, price = None):\n",
    "    if type == 'MARKET':\n",
    "        resp = session.post('http://localhost:9999/v1/orders', params = {'ticker': ticker, 'type': 'MARKET', 'quantity': q, 'action': 'SELL'})\n",
    "        if resp.ok:\n",
    "            mkt_order = resp.json()\n",
    "            id = mkt_order['order_id']\n",
    "            print('The market buy order was submitted and has ID', id)\n",
    "        else:\n",
    "            print('The order was not successfully submitted!')\n",
    "    else:\n",
    "        resp = session.post('http://localhost:9999/v1/orders',\n",
    "                            params={'ticker': ticker, 'type': 'LIMIT', 'quantity': q, 'action': 'SELL', 'price': price})\n",
    "        if resp.ok:\n",
    "            mkt_order = resp.json()\n",
    "            id = mkt_order['order_id']\n",
    "            print('The market buy order was submitted and has ID', id)\n",
    "        else:\n",
    "            print('The order was not successfully submitted!')\n",
    "\n",
    "def cancel(session, order_id):\n",
    "    order_id = order_id # assuming the order to cancel has ID 100\n",
    "    resp = s.delete('http://localhost:9999/v1/orders/{}'.format(order_id))\n",
    "    if resp.ok:\n",
    "        status = resp.json()\n",
    "        success = status['success']\n",
    "        print('The order was successfully cancelled?', success)\n",
    "        "
   ]
  },
  {
   "cell_type": "markdown",
   "metadata": {},
   "source": [
    "### Divergence Functions"
   ]
  },
  {
   "cell_type": "code",
   "execution_count": 15,
   "metadata": {},
   "outputs": [],
   "source": [
    "def init_price(session, ticker):\n",
    "    resp = s.get('http://localhost:9999/v1/securities/history', params = {'ticker' : 'NGN'})\n",
    "    if resp.ok:\n",
    "        book = resp.json()\n",
    "        return book[-1]['close']\n",
    "\n",
    "def cur_price(session, ticker):\n",
    "    resp = s.get('http://localhost:9999/v1/securities/history', params = {'ticker' : 'NGN'})\n",
    "    if resp.ok:\n",
    "        book = resp.json()\n",
    "        return book[0]['close']\n",
    "    \n",
    "def ptd_ret(session, ticker):\n",
    "    return cur_price(session, ticker)/init_price(session, ticker) - 1\n",
    "\n",
    "def e_ptd_ret(session, ticker):\n",
    "    return ptd_ret(session, 'RSM1000') * df_bet[ticker][0]\n",
    "\n",
    "def div(session, ticker):\n",
    "    return ptd_ret(session, ticker) - e_ptd_ret(session, ticker)"
   ]
  },
  {
   "cell_type": "markdown",
   "metadata": {
    "heading_collapsed": true
   },
   "source": [
    "## Algorithm Execution Section"
   ]
  },
  {
   "cell_type": "code",
   "execution_count": 16,
   "metadata": {
    "hidden": true
   },
   "outputs": [
    {
     "name": "stdout",
     "output_type": "stream",
     "text": [
      "0\n",
      "25.47\n",
      "-0.4039937392049323\n"
     ]
    }
   ],
   "source": [
    "signal.signal(signal.SIGINT, signal_handler)\n",
    "\n",
    "with requests.Session() as s:\n",
    "    s.headers.update(API_KEY)\n",
    "    tick = get_tick(s) \n",
    "    print(tick)\n",
    "    print(init_price(s, 'NGN'))\n",
    "    print(div(s, 'NGN'))\n",
    "    #buy(s, 'NGN', 'MARKET', 1000)"
   ]
  }
 ],
 "metadata": {
  "kernelspec": {
   "display_name": "Python 3",
   "language": "python",
   "name": "python3"
  },
  "language_info": {
   "codemirror_mode": {
    "name": "ipython",
    "version": 3
   },
   "file_extension": ".py",
   "mimetype": "text/x-python",
   "name": "python",
   "nbconvert_exporter": "python",
   "pygments_lexer": "ipython3",
   "version": "3.8.5"
  }
 },
 "nbformat": 4,
 "nbformat_minor": 1
}
