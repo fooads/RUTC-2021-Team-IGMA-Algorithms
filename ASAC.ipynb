{
 "cells": [
  {
   "cell_type": "markdown",
   "metadata": {},
   "source": [
    "## Import Libraries and Declare API Key"
   ]
  },
  {
   "cell_type": "code",
   "execution_count": 82,
   "metadata": {},
   "outputs": [],
   "source": [
    "import requests\n",
    "import pandas as pd\n",
    "import numpy as np\n",
    "import signal\n",
    "pd.options.mode.chained_assignment = None  # default='warn'"
   ]
  },
  {
   "cell_type": "code",
   "execution_count": 2,
   "metadata": {},
   "outputs": [],
   "source": [
    "API_KEY = {'X-API-key': 'RPCJTKLW'}"
   ]
  },
  {
   "cell_type": "markdown",
   "metadata": {},
   "source": [
    "## Accesing the Past Heat History"
   ]
  },
  {
   "cell_type": "markdown",
   "metadata": {},
   "source": [
    "### Historical Data Retrieval"
   ]
  },
  {
   "cell_type": "code",
   "execution_count": 84,
   "metadata": {},
   "outputs": [
    {
     "data": {
      "text/html": [
       "<div>\n",
       "<style scoped>\n",
       "    .dataframe tbody tr th:only-of-type {\n",
       "        vertical-align: middle;\n",
       "    }\n",
       "\n",
       "    .dataframe tbody tr th {\n",
       "        vertical-align: top;\n",
       "    }\n",
       "\n",
       "    .dataframe thead th {\n",
       "        text-align: right;\n",
       "    }\n",
       "</style>\n",
       "<table border=\"1\" class=\"dataframe\">\n",
       "  <thead>\n",
       "    <tr style=\"text-align: right;\">\n",
       "      <th></th>\n",
       "      <th>RSM1000</th>\n",
       "      <th>NGN</th>\n",
       "      <th>WHEL</th>\n",
       "      <th>GEAR</th>\n",
       "    </tr>\n",
       "  </thead>\n",
       "  <tbody>\n",
       "    <tr>\n",
       "      <th>0</th>\n",
       "      <td>100.46</td>\n",
       "      <td>25.23</td>\n",
       "      <td>25.42</td>\n",
       "      <td>25.41</td>\n",
       "    </tr>\n",
       "    <tr>\n",
       "      <th>1</th>\n",
       "      <td>100.89</td>\n",
       "      <td>25.09</td>\n",
       "      <td>25.24</td>\n",
       "      <td>25.50</td>\n",
       "    </tr>\n",
       "    <tr>\n",
       "      <th>2</th>\n",
       "      <td>101.87</td>\n",
       "      <td>24.95</td>\n",
       "      <td>24.76</td>\n",
       "      <td>25.76</td>\n",
       "    </tr>\n",
       "    <tr>\n",
       "      <th>3</th>\n",
       "      <td>101.55</td>\n",
       "      <td>25.05</td>\n",
       "      <td>24.85</td>\n",
       "      <td>25.72</td>\n",
       "    </tr>\n",
       "    <tr>\n",
       "      <th>4</th>\n",
       "      <td>101.71</td>\n",
       "      <td>25.03</td>\n",
       "      <td>24.76</td>\n",
       "      <td>25.88</td>\n",
       "    </tr>\n",
       "    <tr>\n",
       "      <th>...</th>\n",
       "      <td>...</td>\n",
       "      <td>...</td>\n",
       "      <td>...</td>\n",
       "      <td>...</td>\n",
       "    </tr>\n",
       "    <tr>\n",
       "      <th>296</th>\n",
       "      <td>100.29</td>\n",
       "      <td>25.04</td>\n",
       "      <td>25.08</td>\n",
       "      <td>25.05</td>\n",
       "    </tr>\n",
       "    <tr>\n",
       "      <th>297</th>\n",
       "      <td>100.58</td>\n",
       "      <td>24.99</td>\n",
       "      <td>24.91</td>\n",
       "      <td>25.13</td>\n",
       "    </tr>\n",
       "    <tr>\n",
       "      <th>298</th>\n",
       "      <td>100.01</td>\n",
       "      <td>25.08</td>\n",
       "      <td>25.06</td>\n",
       "      <td>25.07</td>\n",
       "    </tr>\n",
       "    <tr>\n",
       "      <th>299</th>\n",
       "      <td>99.62</td>\n",
       "      <td>25.11</td>\n",
       "      <td>25.20</td>\n",
       "      <td>25.01</td>\n",
       "    </tr>\n",
       "    <tr>\n",
       "      <th>300</th>\n",
       "      <td>100.00</td>\n",
       "      <td>25.00</td>\n",
       "      <td>25.00</td>\n",
       "      <td>25.00</td>\n",
       "    </tr>\n",
       "  </tbody>\n",
       "</table>\n",
       "<p>301 rows × 4 columns</p>\n",
       "</div>"
      ],
      "text/plain": [
       "     RSM1000    NGN   WHEL   GEAR\n",
       "0     100.46  25.23  25.42  25.41\n",
       "1     100.89  25.09  25.24  25.50\n",
       "2     101.87  24.95  24.76  25.76\n",
       "3     101.55  25.05  24.85  25.72\n",
       "4     101.71  25.03  24.76  25.88\n",
       "..       ...    ...    ...    ...\n",
       "296   100.29  25.04  25.08  25.05\n",
       "297   100.58  24.99  24.91  25.13\n",
       "298   100.01  25.08  25.06  25.07\n",
       "299    99.62  25.11  25.20  25.01\n",
       "300   100.00  25.00  25.00  25.00\n",
       "\n",
       "[301 rows x 4 columns]"
      ]
     },
     "execution_count": 84,
     "metadata": {},
     "output_type": "execute_result"
    }
   ],
   "source": [
    "pd_new = ''\n",
    "with requests.Session() as s:\n",
    "    s.headers.update(API_KEY)\n",
    "    resp = s.get('http://localhost:9999/v1/news')\n",
    "    if resp.ok:\n",
    "        price_hist = resp.json()\n",
    "        pd_list = pd.read_html(price_hist[0]['body'])\n",
    "        pd_new = pd_list[0]\n",
    "        pd_new = pd_new.iloc[: , 1:]\n",
    "        pd_new.rename(columns=pd_new.iloc[0], inplace = True)\n",
    "        pd_new.drop([0], inplace = True)\n",
    "        pd_new.index = np.arange(0, len(pd_new))\n",
    "        pd_new = pd_new.apply(pd.to_numeric, errors='ignore')\n",
    "    else:\n",
    "        print('API Error')\n",
    "\n",
    "pd_new"
   ]
  },
  {
   "cell_type": "markdown",
   "metadata": {},
   "source": [
    "### Observed Historical Correlation"
   ]
  },
  {
   "cell_type": "code",
   "execution_count": 85,
   "metadata": {},
   "outputs": [
    {
     "data": {
      "text/html": [
       "<style  type=\"text/css\" >\n",
       "</style><table id=\"T_28a29de2_f83f_11eb_8f15_00e18c41be95\" ><caption>Observed Historical Correlation</caption><thead>    <tr>        <th class=\"blank level0\" ></th>        <th class=\"col_heading level0 col0\" >RSM1000</th>        <th class=\"col_heading level0 col1\" >NGN</th>        <th class=\"col_heading level0 col2\" >WHEL</th>        <th class=\"col_heading level0 col3\" >GEAR</th>    </tr></thead><tbody>\n",
       "                <tr>\n",
       "                        <th id=\"T_28a29de2_f83f_11eb_8f15_00e18c41be95level0_row0\" class=\"row_heading level0 row0\" >RSM1000</th>\n",
       "                        <td id=\"T_28a29de2_f83f_11eb_8f15_00e18c41be95row0_col0\" class=\"data row0 col0\" >1.000000</td>\n",
       "                        <td id=\"T_28a29de2_f83f_11eb_8f15_00e18c41be95row0_col1\" class=\"data row0 col1\" >-0.919017</td>\n",
       "                        <td id=\"T_28a29de2_f83f_11eb_8f15_00e18c41be95row0_col2\" class=\"data row0 col2\" >-0.981771</td>\n",
       "                        <td id=\"T_28a29de2_f83f_11eb_8f15_00e18c41be95row0_col3\" class=\"data row0 col3\" >0.939623</td>\n",
       "            </tr>\n",
       "            <tr>\n",
       "                        <th id=\"T_28a29de2_f83f_11eb_8f15_00e18c41be95level0_row1\" class=\"row_heading level0 row1\" >NGN</th>\n",
       "                        <td id=\"T_28a29de2_f83f_11eb_8f15_00e18c41be95row1_col0\" class=\"data row1 col0\" >-0.919017</td>\n",
       "                        <td id=\"T_28a29de2_f83f_11eb_8f15_00e18c41be95row1_col1\" class=\"data row1 col1\" >1.000000</td>\n",
       "                        <td id=\"T_28a29de2_f83f_11eb_8f15_00e18c41be95row1_col2\" class=\"data row1 col2\" >0.893177</td>\n",
       "                        <td id=\"T_28a29de2_f83f_11eb_8f15_00e18c41be95row1_col3\" class=\"data row1 col3\" >-0.875148</td>\n",
       "            </tr>\n",
       "            <tr>\n",
       "                        <th id=\"T_28a29de2_f83f_11eb_8f15_00e18c41be95level0_row2\" class=\"row_heading level0 row2\" >WHEL</th>\n",
       "                        <td id=\"T_28a29de2_f83f_11eb_8f15_00e18c41be95row2_col0\" class=\"data row2 col0\" >-0.981771</td>\n",
       "                        <td id=\"T_28a29de2_f83f_11eb_8f15_00e18c41be95row2_col1\" class=\"data row2 col1\" >0.893177</td>\n",
       "                        <td id=\"T_28a29de2_f83f_11eb_8f15_00e18c41be95row2_col2\" class=\"data row2 col2\" >1.000000</td>\n",
       "                        <td id=\"T_28a29de2_f83f_11eb_8f15_00e18c41be95row2_col3\" class=\"data row2 col3\" >-0.914641</td>\n",
       "            </tr>\n",
       "            <tr>\n",
       "                        <th id=\"T_28a29de2_f83f_11eb_8f15_00e18c41be95level0_row3\" class=\"row_heading level0 row3\" >GEAR</th>\n",
       "                        <td id=\"T_28a29de2_f83f_11eb_8f15_00e18c41be95row3_col0\" class=\"data row3 col0\" >0.939623</td>\n",
       "                        <td id=\"T_28a29de2_f83f_11eb_8f15_00e18c41be95row3_col1\" class=\"data row3 col1\" >-0.875148</td>\n",
       "                        <td id=\"T_28a29de2_f83f_11eb_8f15_00e18c41be95row3_col2\" class=\"data row3 col2\" >-0.914641</td>\n",
       "                        <td id=\"T_28a29de2_f83f_11eb_8f15_00e18c41be95row3_col3\" class=\"data row3 col3\" >1.000000</td>\n",
       "            </tr>\n",
       "    </tbody></table>"
      ],
      "text/plain": [
       "<pandas.io.formats.style.Styler at 0x2904d483970>"
      ]
     },
     "execution_count": 85,
     "metadata": {},
     "output_type": "execute_result"
    }
   ],
   "source": [
    "corr_df = pd_new.corr()\n",
    "#reset symbol as index (rather than 0-X)\n",
    "corr_df.head(10)\n",
    "corr_df.style.set_caption(\"Observed Historical Correlation\")"
   ]
  },
  {
   "cell_type": "code",
   "execution_count": 88,
   "metadata": {},
   "outputs": [
    {
     "data": {
      "text/plain": [
       "0      25.23\n",
       "1      25.09\n",
       "2      24.95\n",
       "3      25.05\n",
       "4      25.03\n",
       "       ...  \n",
       "296    25.04\n",
       "297    24.99\n",
       "298    25.08\n",
       "299    25.11\n",
       "300    25.00\n",
       "Name: NGN, Length: 301, dtype: float64"
      ]
     },
     "execution_count": 88,
     "metadata": {},
     "output_type": "execute_result"
    }
   ],
   "source": [
    "pd_new['NGN']"
   ]
  },
  {
   "cell_type": "markdown",
   "metadata": {},
   "source": [
    "### Observed Historical Volatillity"
   ]
  },
  {
   "cell_type": "code",
   "execution_count": 91,
   "metadata": {},
   "outputs": [],
   "source": [
    "def volatility(tick):\n",
    "    pd_new['Log returns'] = np.log(pd_new[tick]/pd_new[tick].shift())\n",
    "    volatility = pd_new['Log returns'].std()*1200**.5\n",
    "    return volatility"
   ]
  },
  {
   "cell_type": "code",
   "execution_count": 92,
   "metadata": {},
   "outputs": [
    {
     "data": {
      "text/html": [
       "<style  type=\"text/css\" >\n",
       "</style><table id=\"T_c53fe020_f83f_11eb_9307_00e18c41be95\" ><caption>Observed Historical Volatillity</caption><thead>    <tr>        <th class=\"blank level0\" ></th>        <th class=\"col_heading level0 col0\" >RSM1000</th>        <th class=\"col_heading level0 col1\" >GEAR</th>        <th class=\"col_heading level0 col2\" >WHEL</th>        <th class=\"col_heading level0 col3\" >NGN</th>    </tr></thead><tbody>\n",
       "                <tr>\n",
       "                        <th id=\"T_c53fe020_f83f_11eb_9307_00e18c41be95level0_row0\" class=\"row_heading level0 row0\" >0</th>\n",
       "                        <td id=\"T_c53fe020_f83f_11eb_9307_00e18c41be95row0_col0\" class=\"data row0 col0\" >0.165423</td>\n",
       "                        <td id=\"T_c53fe020_f83f_11eb_9307_00e18c41be95row0_col1\" class=\"data row0 col1\" >0.215169</td>\n",
       "                        <td id=\"T_c53fe020_f83f_11eb_9307_00e18c41be95row0_col2\" class=\"data row0 col2\" >0.265406</td>\n",
       "                        <td id=\"T_c53fe020_f83f_11eb_9307_00e18c41be95row0_col3\" class=\"data row0 col3\" >0.168374</td>\n",
       "            </tr>\n",
       "    </tbody></table>"
      ],
      "text/plain": [
       "<pandas.io.formats.style.Styler at 0x2904d483550>"
      ]
     },
     "execution_count": 92,
     "metadata": {},
     "output_type": "execute_result"
    }
   ],
   "source": [
    "lst = [[volatility('RSM1000'), volatility('NGN'), volatility('WHEL'), volatility('GEAR')]]\n",
    "df_vol = pd.DataFrame(lst, columns =['RSM1000', 'GEAR', 'WHEL', 'NGN'])\n",
    "df_vol.style.set_caption(\"Observed Historical Volatillity\")"
   ]
  },
  {
   "cell_type": "markdown",
   "metadata": {},
   "source": [
    "### Observed Historical Beta"
   ]
  },
  {
   "cell_type": "code",
   "execution_count": 93,
   "metadata": {},
   "outputs": [],
   "source": [
    "def market_beta(tick):\n",
    "    pd_new['Log returns_RSM'] = np.log(pd_new['RSM1000']/pd_new['RSM1000'].shift())\n",
    "    pd_new['Log returns'] = np.log(pd_new[tick]/pd_new[tick].shift())\n",
    "    \n",
    "    beta = corr_df['RSM1000'][tick] * (pd_new['Log returns'].std() / pd_new['Log returns_RSM'].std())\n",
    "    return beta  "
   ]
  },
  {
   "cell_type": "code",
   "execution_count": 94,
   "metadata": {},
   "outputs": [
    {
     "data": {
      "text/html": [
       "<style  type=\"text/css\" >\n",
       "</style><table id=\"T_a005024d_f840_11eb_b024_00e18c41be95\" ><caption>Observed Historical Beta</caption><thead>    <tr>        <th class=\"blank level0\" ></th>        <th class=\"col_heading level0 col0\" >GEAR</th>        <th class=\"col_heading level0 col1\" >WHEL</th>        <th class=\"col_heading level0 col2\" >NGN</th>    </tr></thead><tbody>\n",
       "                <tr>\n",
       "                        <th id=\"T_a005024d_f840_11eb_b024_00e18c41be95level0_row0\" class=\"row_heading level0 row0\" >0</th>\n",
       "                        <td id=\"T_a005024d_f840_11eb_b024_00e18c41be95row0_col0\" class=\"data row0 col0\" >0.956386</td>\n",
       "                        <td id=\"T_a005024d_f840_11eb_b024_00e18c41be95row0_col1\" class=\"data row0 col1\" >-1.575166</td>\n",
       "                        <td id=\"T_a005024d_f840_11eb_b024_00e18c41be95row0_col2\" class=\"data row0 col2\" >-1.195385</td>\n",
       "            </tr>\n",
       "    </tbody></table>"
      ],
      "text/plain": [
       "<pandas.io.formats.style.Styler at 0x2904d61b6a0>"
      ]
     },
     "execution_count": 94,
     "metadata": {},
     "output_type": "execute_result"
    }
   ],
   "source": [
    "lst = [[market_beta('GEAR'), market_beta('WHEL'), market_beta('NGN')]]\n",
    "df_bet = pd.DataFrame(lst, columns =['GEAR', 'WHEL', 'NGN'])\n",
    "df_bet.style.set_caption(\"Observed Historical Beta\")"
   ]
  },
  {
   "cell_type": "markdown",
   "metadata": {},
   "source": [
    "## Current Heat Trading Algorithm"
   ]
  },
  {
   "cell_type": "markdown",
   "metadata": {
    "heading_collapsed": true
   },
   "source": [
    "### Basic Buy and Sell Functions"
   ]
  },
  {
   "cell_type": "code",
   "execution_count": null,
   "metadata": {
    "hidden": true
   },
   "outputs": [],
   "source": [
    "shutdown = False\n",
    "\n",
    "class ApiException(Exception):\n",
    "    pass\n",
    "\n",
    "def signal_handler(signum, frame):\n",
    "    global shutdown\n",
    "    signal.signal(signal.SIGINT, signal.SIG_DFL)\n",
    "    shutdown = True\n",
    "\n",
    "def get_tick(session):\n",
    "    resp = session.get('http://localhost:9999/v1/case')\n",
    "    if resp.ok:\n",
    "        case = resp.json()\n",
    "        return case['tick']\n",
    "    raise ApiException('Authorization error. Please check API key.')\n",
    "\n",
    "def ticker_bid_ask(session, ticker):\n",
    "    payload = {'ticker': ticker}\n",
    "    resp = session.get('http://localhost:9999/v1/securities/book', params = payload)\n",
    "    if resp.ok:\n",
    "        book = resp.json()\n",
    "        return book['bids'][0]['price'], book['asks'][0]['price']\n",
    "    raise ApiException('Authorization error. Please check API key.')\n",
    "\n",
    "def buy(session, ticker, type, q, price = None):\n",
    "    if type == 'MARKET':\n",
    "        resp = session.post('http://localhost:9999/v1/orders', params = {'ticker': ticker, 'type': 'MARKET', 'quantity': q, 'action': 'BUY'})\n",
    "        if resp.ok:\n",
    "            mkt_order = resp.json()\n",
    "            id = mkt_order['order_id']\n",
    "            print('The market buy order was submitted and has ID', id)\n",
    "        else:\n",
    "            print('The order was not successfully submitted!')\n",
    "    else:\n",
    "        resp = session.post('http://localhost:9999/v1/orders',\n",
    "                            params={'ticker': ticker, 'type': 'LIMIT', 'quantity': q, 'action': 'BUY', 'price': price})\n",
    "        if resp.ok:\n",
    "            mkt_order = resp.json()\n",
    "            id = mkt_order['order_id']\n",
    "            print('The market buy order was submitted and has ID', id)\n",
    "        else:\n",
    "            print('The order was not successfully submitted!')\n",
    "\n",
    "def sell(session, ticker, type, q, price = None):\n",
    "    if type == 'MARKET':\n",
    "        resp = session.post('http://localhost:9999/v1/orders', params = {'ticker': ticker, 'type': 'MARKET', 'quantity': q, 'action': 'SELL'})\n",
    "        if resp.ok:\n",
    "            mkt_order = resp.json()\n",
    "            id = mkt_order['order_id']\n",
    "            print('The market buy order was submitted and has ID', id)\n",
    "        else:\n",
    "            print('The order was not successfully submitted!')\n",
    "    else:\n",
    "        resp = session.post('http://localhost:9999/v1/orders',\n",
    "                            params={'ticker': ticker, 'type': 'LIMIT', 'quantity': q, 'action': 'SELL', 'price': price})\n",
    "        if resp.ok:\n",
    "            mkt_order = resp.json()\n",
    "            id = mkt_order['order_id']\n",
    "            print('The market buy order was submitted and has ID', id)\n",
    "        else:\n",
    "            print('The order was not successfully submitted!')\n",
    "\n",
    "def cancel(session, order_id):\n",
    "    order_id = order_id # assuming the order to cancel has ID 100\n",
    "    resp = s.delete('http://localhost:9999/v1/orders/{}'.format(order_id))\n",
    "    if resp.ok:\n",
    "        status = resp.json()\n",
    "        success = status['success']\n",
    "        print('The order was successfully cancelled?', success)\n",
    "        "
   ]
  },
  {
   "cell_type": "markdown",
   "metadata": {},
   "source": [
    "### Divergence Functions"
   ]
  },
  {
   "cell_type": "code",
   "execution_count": null,
   "metadata": {},
   "outputs": [],
   "source": [
    "def init_price(session, ticker):\n",
    "    resp = s.get('http://localhost:9999/v1/securities/history', params = {'ticker' : 'NGN'})\n",
    "    if resp.ok:\n",
    "        book = resp.json()\n",
    "        return book[-1]['close']\n",
    "\n",
    "def cur_price(session, ticker):\n",
    "    resp = s.get('http://localhost:9999/v1/securities/history', params = {'ticker' : 'NGN'})\n",
    "    if resp.ok:\n",
    "        book = resp.json()\n",
    "        return book[0]['close']\n",
    "    \n",
    "def ptd_ret(session, ticker):\n",
    "    return cur_price(session, ticker)/init_price(session, ticker) - 1\n",
    "\n",
    "def e_ptd_ret(session, ticker):\n",
    "    return ptd_ret(session, 'RSM1000') * df_bet[ticker][0]\n",
    "\n",
    "def div(session, ticker):\n",
    "    return ptd_ret(session, ticker) - e_ptd_ret(session, ticker)"
   ]
  },
  {
   "cell_type": "markdown",
   "metadata": {},
   "source": [
    "## Algorithm Execution Section"
   ]
  },
  {
   "cell_type": "code",
   "execution_count": null,
   "metadata": {},
   "outputs": [],
   "source": [
    "signal.signal(signal.SIGINT, signal_handler)\n",
    "\n",
    "with requests.Session() as s:\n",
    "    s.headers.update(API_KEY)\n",
    "    tick = get_tick(s) \n",
    "    print(tick)\n",
    "    print(init_price(s, 'NGN'))\n",
    "    print(div(s, 'NGN'))\n",
    "    #buy(s, 'NGN', 'MARKET', 1000)"
   ]
  }
 ],
 "metadata": {
  "kernelspec": {
   "display_name": "Python 3",
   "language": "python",
   "name": "python3"
  },
  "language_info": {
   "codemirror_mode": {
    "name": "ipython",
    "version": 3
   },
   "file_extension": ".py",
   "mimetype": "text/x-python",
   "name": "python",
   "nbconvert_exporter": "python",
   "pygments_lexer": "ipython3",
   "version": "3.8.5"
  }
 },
 "nbformat": 4,
 "nbformat_minor": 4
}
