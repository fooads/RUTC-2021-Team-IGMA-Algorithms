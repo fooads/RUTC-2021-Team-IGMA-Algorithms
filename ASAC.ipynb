{
 "cells": [
  {
   "cell_type": "markdown",
   "metadata": {},
   "source": [
    "## Import Libraries and Declare API Key"
   ]
  },
  {
   "cell_type": "code",
   "execution_count": 1,
   "metadata": {},
   "outputs": [],
   "source": [
    "import requests\n",
    "import pandas as pd\n",
    "import numpy as np\n",
    "import signal\n",
    "import time\n",
    "pd.options.mode.chained_assignment = None  # default='warn'"
   ]
  },
  {
   "cell_type": "code",
   "execution_count": 2,
   "metadata": {},
   "outputs": [],
   "source": [
    "API_KEY = {'X-API-key': 'RPCJTKLW'}"
   ]
  },
  {
   "cell_type": "markdown",
   "metadata": {},
   "source": [
    "## Accesing the Past Heat History"
   ]
  },
  {
   "cell_type": "markdown",
   "metadata": {},
   "source": [
    "### Historical Data Retrieval"
   ]
  },
  {
   "cell_type": "code",
   "execution_count": 3,
   "metadata": {},
   "outputs": [
    {
     "data": {
      "text/html": [
       "<div>\n",
       "<style scoped>\n",
       "    .dataframe tbody tr th:only-of-type {\n",
       "        vertical-align: middle;\n",
       "    }\n",
       "\n",
       "    .dataframe tbody tr th {\n",
       "        vertical-align: top;\n",
       "    }\n",
       "\n",
       "    .dataframe thead th {\n",
       "        text-align: right;\n",
       "    }\n",
       "</style>\n",
       "<table border=\"1\" class=\"dataframe\">\n",
       "  <thead>\n",
       "    <tr style=\"text-align: right;\">\n",
       "      <th></th>\n",
       "      <th>RSM1000</th>\n",
       "      <th>NGN</th>\n",
       "      <th>WHEL</th>\n",
       "      <th>GEAR</th>\n",
       "    </tr>\n",
       "  </thead>\n",
       "  <tbody>\n",
       "    <tr>\n",
       "      <th>0</th>\n",
       "      <td>91.54</td>\n",
       "      <td>25.06</td>\n",
       "      <td>24.43</td>\n",
       "      <td>27.62</td>\n",
       "    </tr>\n",
       "    <tr>\n",
       "      <th>1</th>\n",
       "      <td>91.58</td>\n",
       "      <td>25.05</td>\n",
       "      <td>24.49</td>\n",
       "      <td>27.60</td>\n",
       "    </tr>\n",
       "    <tr>\n",
       "      <th>2</th>\n",
       "      <td>91.86</td>\n",
       "      <td>25.00</td>\n",
       "      <td>24.52</td>\n",
       "      <td>27.52</td>\n",
       "    </tr>\n",
       "    <tr>\n",
       "      <th>3</th>\n",
       "      <td>91.77</td>\n",
       "      <td>24.97</td>\n",
       "      <td>24.58</td>\n",
       "      <td>27.58</td>\n",
       "    </tr>\n",
       "    <tr>\n",
       "      <th>4</th>\n",
       "      <td>91.47</td>\n",
       "      <td>25.06</td>\n",
       "      <td>24.53</td>\n",
       "      <td>27.59</td>\n",
       "    </tr>\n",
       "    <tr>\n",
       "      <th>...</th>\n",
       "      <td>...</td>\n",
       "      <td>...</td>\n",
       "      <td>...</td>\n",
       "      <td>...</td>\n",
       "    </tr>\n",
       "    <tr>\n",
       "      <th>296</th>\n",
       "      <td>100.04</td>\n",
       "      <td>24.96</td>\n",
       "      <td>24.99</td>\n",
       "      <td>25.26</td>\n",
       "    </tr>\n",
       "    <tr>\n",
       "      <th>297</th>\n",
       "      <td>99.82</td>\n",
       "      <td>25.01</td>\n",
       "      <td>24.94</td>\n",
       "      <td>25.22</td>\n",
       "    </tr>\n",
       "    <tr>\n",
       "      <th>298</th>\n",
       "      <td>99.94</td>\n",
       "      <td>25.05</td>\n",
       "      <td>24.94</td>\n",
       "      <td>25.15</td>\n",
       "    </tr>\n",
       "    <tr>\n",
       "      <th>299</th>\n",
       "      <td>99.51</td>\n",
       "      <td>25.16</td>\n",
       "      <td>24.86</td>\n",
       "      <td>25.16</td>\n",
       "    </tr>\n",
       "    <tr>\n",
       "      <th>300</th>\n",
       "      <td>100.00</td>\n",
       "      <td>25.00</td>\n",
       "      <td>25.00</td>\n",
       "      <td>25.00</td>\n",
       "    </tr>\n",
       "  </tbody>\n",
       "</table>\n",
       "<p>301 rows × 4 columns</p>\n",
       "</div>"
      ],
      "text/plain": [
       "     RSM1000    NGN   WHEL   GEAR\n",
       "0      91.54  25.06  24.43  27.62\n",
       "1      91.58  25.05  24.49  27.60\n",
       "2      91.86  25.00  24.52  27.52\n",
       "3      91.77  24.97  24.58  27.58\n",
       "4      91.47  25.06  24.53  27.59\n",
       "..       ...    ...    ...    ...\n",
       "296   100.04  24.96  24.99  25.26\n",
       "297    99.82  25.01  24.94  25.22\n",
       "298    99.94  25.05  24.94  25.15\n",
       "299    99.51  25.16  24.86  25.16\n",
       "300   100.00  25.00  25.00  25.00\n",
       "\n",
       "[301 rows x 4 columns]"
      ]
     },
     "execution_count": 3,
     "metadata": {},
     "output_type": "execute_result"
    }
   ],
   "source": [
    "pd_new = ''\n",
    "with requests.Session() as s:\n",
    "    s.headers.update(API_KEY)\n",
    "    resp = s.get('http://localhost:9999/v1/news')\n",
    "    if resp.ok:\n",
    "        price_hist = resp.json()\n",
    "        pd_list = pd.read_html(price_hist[0]['body'])\n",
    "        pd_new = pd_list[0]\n",
    "        pd_new = pd_new.iloc[: , 1:]\n",
    "        pd_new.rename(columns=pd_new.iloc[0], inplace = True)\n",
    "        pd_new.drop([0], inplace = True)\n",
    "        pd_new.index = np.arange(0, len(pd_new))\n",
    "        pd_new = pd_new.apply(pd.to_numeric, errors='ignore')\n",
    "    else:\n",
    "        print('API Error')\n",
    "\n",
    "pd_new"
   ]
  },
  {
   "cell_type": "markdown",
   "metadata": {},
   "source": [
    "### Observed Historical Correlation"
   ]
  },
  {
   "cell_type": "code",
   "execution_count": 4,
   "metadata": {},
   "outputs": [
    {
     "data": {
      "text/html": [
       "<style  type=\"text/css\" >\n",
       "</style><table id=\"T_18301755_f97d_11eb_bd27_00e18c41be95\" ><caption>Observed Historical Correlation</caption><thead>    <tr>        <th class=\"blank level0\" ></th>        <th class=\"col_heading level0 col0\" >RSM1000</th>        <th class=\"col_heading level0 col1\" >NGN</th>        <th class=\"col_heading level0 col2\" >WHEL</th>        <th class=\"col_heading level0 col3\" >GEAR</th>    </tr></thead><tbody>\n",
       "                <tr>\n",
       "                        <th id=\"T_18301755_f97d_11eb_bd27_00e18c41be95level0_row0\" class=\"row_heading level0 row0\" >RSM1000</th>\n",
       "                        <td id=\"T_18301755_f97d_11eb_bd27_00e18c41be95row0_col0\" class=\"data row0 col0\" >1.000000</td>\n",
       "                        <td id=\"T_18301755_f97d_11eb_bd27_00e18c41be95row0_col1\" class=\"data row0 col1\" >-0.485352</td>\n",
       "                        <td id=\"T_18301755_f97d_11eb_bd27_00e18c41be95row0_col2\" class=\"data row0 col2\" >0.561287</td>\n",
       "                        <td id=\"T_18301755_f97d_11eb_bd27_00e18c41be95row0_col3\" class=\"data row0 col3\" >-0.808386</td>\n",
       "            </tr>\n",
       "            <tr>\n",
       "                        <th id=\"T_18301755_f97d_11eb_bd27_00e18c41be95level0_row1\" class=\"row_heading level0 row1\" >NGN</th>\n",
       "                        <td id=\"T_18301755_f97d_11eb_bd27_00e18c41be95row1_col0\" class=\"data row1 col0\" >-0.485352</td>\n",
       "                        <td id=\"T_18301755_f97d_11eb_bd27_00e18c41be95row1_col1\" class=\"data row1 col1\" >1.000000</td>\n",
       "                        <td id=\"T_18301755_f97d_11eb_bd27_00e18c41be95row1_col2\" class=\"data row1 col2\" >-0.214366</td>\n",
       "                        <td id=\"T_18301755_f97d_11eb_bd27_00e18c41be95row1_col3\" class=\"data row1 col3\" >0.279847</td>\n",
       "            </tr>\n",
       "            <tr>\n",
       "                        <th id=\"T_18301755_f97d_11eb_bd27_00e18c41be95level0_row2\" class=\"row_heading level0 row2\" >WHEL</th>\n",
       "                        <td id=\"T_18301755_f97d_11eb_bd27_00e18c41be95row2_col0\" class=\"data row2 col0\" >0.561287</td>\n",
       "                        <td id=\"T_18301755_f97d_11eb_bd27_00e18c41be95row2_col1\" class=\"data row2 col1\" >-0.214366</td>\n",
       "                        <td id=\"T_18301755_f97d_11eb_bd27_00e18c41be95row2_col2\" class=\"data row2 col2\" >1.000000</td>\n",
       "                        <td id=\"T_18301755_f97d_11eb_bd27_00e18c41be95row2_col3\" class=\"data row2 col3\" >-0.621265</td>\n",
       "            </tr>\n",
       "            <tr>\n",
       "                        <th id=\"T_18301755_f97d_11eb_bd27_00e18c41be95level0_row3\" class=\"row_heading level0 row3\" >GEAR</th>\n",
       "                        <td id=\"T_18301755_f97d_11eb_bd27_00e18c41be95row3_col0\" class=\"data row3 col0\" >-0.808386</td>\n",
       "                        <td id=\"T_18301755_f97d_11eb_bd27_00e18c41be95row3_col1\" class=\"data row3 col1\" >0.279847</td>\n",
       "                        <td id=\"T_18301755_f97d_11eb_bd27_00e18c41be95row3_col2\" class=\"data row3 col2\" >-0.621265</td>\n",
       "                        <td id=\"T_18301755_f97d_11eb_bd27_00e18c41be95row3_col3\" class=\"data row3 col3\" >1.000000</td>\n",
       "            </tr>\n",
       "    </tbody></table>"
      ],
      "text/plain": [
       "<pandas.io.formats.style.Styler at 0x19d76d495e0>"
      ]
     },
     "execution_count": 4,
     "metadata": {},
     "output_type": "execute_result"
    }
   ],
   "source": [
    "corr_df = pd_new.corr()\n",
    "#reset symbol as index (rather than 0-X)\n",
    "corr_df.head(10)\n",
    "corr_df.style.set_caption(\"Observed Historical Correlation\")"
   ]
  },
  {
   "cell_type": "markdown",
   "metadata": {},
   "source": [
    "### Observed Historical Volatillity"
   ]
  },
  {
   "cell_type": "code",
   "execution_count": 5,
   "metadata": {},
   "outputs": [],
   "source": [
    "def volatility(tick):\n",
    "    pd_new['Log returns'] = np.log(pd_new[tick]/pd_new[tick].shift())\n",
    "    volatility = pd_new['Log returns'].std()*1200**.5\n",
    "    return volatility"
   ]
  },
  {
   "cell_type": "code",
   "execution_count": 6,
   "metadata": {},
   "outputs": [
    {
     "data": {
      "text/html": [
       "<style  type=\"text/css\" >\n",
       "</style><table id=\"T_1880ca6b_f97d_11eb_accf_00e18c41be95\" ><caption>Observed Historical Volatillity</caption><thead>    <tr>        <th class=\"blank level0\" ></th>        <th class=\"col_heading level0 col0\" >RSM1000</th>        <th class=\"col_heading level0 col1\" >GEAR</th>        <th class=\"col_heading level0 col2\" >WHEL</th>        <th class=\"col_heading level0 col3\" >NGN</th>    </tr></thead><tbody>\n",
       "                <tr>\n",
       "                        <th id=\"T_1880ca6b_f97d_11eb_accf_00e18c41be95level0_row0\" class=\"row_heading level0 row0\" >0</th>\n",
       "                        <td id=\"T_1880ca6b_f97d_11eb_accf_00e18c41be95row0_col0\" class=\"data row0 col0\" >0.174748</td>\n",
       "                        <td id=\"T_1880ca6b_f97d_11eb_accf_00e18c41be95row0_col1\" class=\"data row0 col1\" >0.136302</td>\n",
       "                        <td id=\"T_1880ca6b_f97d_11eb_accf_00e18c41be95row0_col2\" class=\"data row0 col2\" >0.130900</td>\n",
       "                        <td id=\"T_1880ca6b_f97d_11eb_accf_00e18c41be95row0_col3\" class=\"data row0 col3\" >0.156852</td>\n",
       "            </tr>\n",
       "    </tbody></table>"
      ],
      "text/plain": [
       "<pandas.io.formats.style.Styler at 0x19d75cdad00>"
      ]
     },
     "execution_count": 6,
     "metadata": {},
     "output_type": "execute_result"
    }
   ],
   "source": [
    "lst = [[volatility('RSM1000'), volatility('NGN'), volatility('WHEL'), volatility('GEAR')]]\n",
    "df_vol = pd.DataFrame(lst, columns =['RSM1000', 'GEAR', 'WHEL', 'NGN'])\n",
    "df_vol.style.set_caption(\"Observed Historical Volatillity\")"
   ]
  },
  {
   "cell_type": "markdown",
   "metadata": {},
   "source": [
    "### Observed Historical Beta"
   ]
  },
  {
   "cell_type": "code",
   "execution_count": 7,
   "metadata": {},
   "outputs": [],
   "source": [
    "def market_beta(tick):\n",
    "    pd_new['Log returns_RSM'] = np.log(pd_new['RSM1000']/pd_new['RSM1000'].shift())\n",
    "    pd_new['Log returns'] = np.log(pd_new[tick]/pd_new[tick].shift())\n",
    "    \n",
    "    beta = corr_df['RSM1000'][tick] * (pd_new['Log returns'].std() / pd_new['Log returns_RSM'].std())\n",
    "    return beta  "
   ]
  },
  {
   "cell_type": "code",
   "execution_count": 8,
   "metadata": {},
   "outputs": [
    {
     "data": {
      "text/html": [
       "<style  type=\"text/css\" >\n",
       "</style><table id=\"T_195eb8ac_f97d_11eb_8d94_00e18c41be95\" ><caption>Observed Historical Beta</caption><thead>    <tr>        <th class=\"blank level0\" ></th>        <th class=\"col_heading level0 col0\" >GEAR</th>        <th class=\"col_heading level0 col1\" >WHEL</th>        <th class=\"col_heading level0 col2\" >NGN</th>    </tr></thead><tbody>\n",
       "                <tr>\n",
       "                        <th id=\"T_195eb8ac_f97d_11eb_8d94_00e18c41be95level0_row0\" class=\"row_heading level0 row0\" >0</th>\n",
       "                        <td id=\"T_195eb8ac_f97d_11eb_8d94_00e18c41be95row0_col0\" class=\"data row0 col0\" >-0.725598</td>\n",
       "                        <td id=\"T_195eb8ac_f97d_11eb_8d94_00e18c41be95row0_col1\" class=\"data row0 col1\" >0.420446</td>\n",
       "                        <td id=\"T_195eb8ac_f97d_11eb_8d94_00e18c41be95row0_col2\" class=\"data row0 col2\" >-0.378571</td>\n",
       "            </tr>\n",
       "    </tbody></table>"
      ],
      "text/plain": [
       "<pandas.io.formats.style.Styler at 0x19d76fc58b0>"
      ]
     },
     "execution_count": 8,
     "metadata": {},
     "output_type": "execute_result"
    }
   ],
   "source": [
    "lst = [[market_beta('GEAR'), market_beta('WHEL'), market_beta('NGN')]]\n",
    "df_bet = pd.DataFrame(lst, columns =['GEAR', 'WHEL', 'NGN'])\n",
    "df_bet.style.set_caption(\"Observed Historical Beta\")"
   ]
  },
  {
   "cell_type": "markdown",
   "metadata": {},
   "source": [
    "## Current Heat Trading Algorithm"
   ]
  },
  {
   "cell_type": "markdown",
   "metadata": {},
   "source": [
    "### Basic Buy and Sell Functions"
   ]
  },
  {
   "cell_type": "code",
   "execution_count": 32,
   "metadata": {},
   "outputs": [],
   "source": [
    "shutdown = False\n",
    "\n",
    "class ApiException(Exception):\n",
    "    pass\n",
    "\n",
    "def signal_handler(signum, frame):\n",
    "    global shutdown\n",
    "    signal.signal(signal.SIGINT, signal.SIG_DFL)\n",
    "    shutdown = True\n",
    "\n",
    "def get_tick(session):\n",
    "    resp = session.get('http://localhost:9999/v1/case')\n",
    "    if resp.ok:\n",
    "        case = resp.json()\n",
    "        return case['tick']\n",
    "    raise ApiException('Authorization error. Please check API key.')\n",
    "\n",
    "def ticker_bid_ask(session, ticker):\n",
    "    payload = {'ticker': ticker}\n",
    "    resp = session.get('http://localhost:9999/v1/securities/book', params = payload)\n",
    "    if resp.ok:\n",
    "        book = resp.json()\n",
    "        return book['bids'][0]['price'], book['asks'][0]['price']\n",
    "    raise ApiException('Authorization error. Please check API key.')\n",
    "\n",
    "def buy(session, ticker, type, q, price = None):\n",
    "    if type == 'MARKET':\n",
    "        resp = session.post('http://localhost:9999/v1/orders', params = {'ticker': ticker, 'type': 'MARKET', 'quantity': q, 'action': 'BUY'})\n",
    "        if resp.ok:\n",
    "            mkt_order = resp.json()\n",
    "            id = mkt_order['order_id']\n",
    "            print('The market buy order was submitted and has ID', id)\n",
    "        else:\n",
    "            print('The order was not successfully submitted!')\n",
    "    else:\n",
    "        resp = session.post('http://localhost:9999/v1/orders',\n",
    "                            params={'ticker': ticker, 'type': 'LIMIT', 'quantity': q, 'action': 'BUY', 'price': price})\n",
    "        if resp.ok:\n",
    "            mkt_order = resp.json()\n",
    "            id = mkt_order['order_id']\n",
    "            print('The market buy order was submitted and has ID', id)\n",
    "        else:\n",
    "            print('The order was not successfully submitted!')\n",
    "\n",
    "def sell(session, ticker, type, q, price = None):\n",
    "    if type == 'MARKET':\n",
    "        resp = session.post('http://localhost:9999/v1/orders', params = {'ticker': ticker, 'type': 'MARKET', 'quantity': q, 'action': 'SELL'})\n",
    "        if resp.ok:\n",
    "            mkt_order = resp.json()\n",
    "            id = mkt_order['order_id']\n",
    "            print('The market buy order was submitted and has ID', id)\n",
    "        else:\n",
    "            print('The order was not successfully submitted!')\n",
    "    else:\n",
    "        resp = session.post('http://localhost:9999/v1/orders',\n",
    "                            params={'ticker': ticker, 'type': 'LIMIT', 'quantity': q, 'action': 'SELL', 'price': price})\n",
    "        if resp.ok:\n",
    "            mkt_order = resp.json()\n",
    "            id = mkt_order['order_id']\n",
    "            print('The market buy order was submitted and has ID', id)\n",
    "        else:\n",
    "            print('The order was not successfully submitted!')\n",
    "\n",
    "def cancel(session, order_id):\n",
    "    order_id = order_id # assuming the order to cancel has ID 100\n",
    "    resp = session.delete('http://localhost:9999/v1/orders/{}'.format(order_id))\n",
    "    if resp.ok:\n",
    "        status = resp.json()\n",
    "        success = status['success']\n",
    "        print('The order was successfully cancelled?', success)\n",
    "        \n",
    "def get_limit(session):\n",
    "    resp = session.get('http://localhost:9999/v1/limits')\n",
    "    if resp.ok:\n",
    "        lim = resp.json()\n",
    "        return lim['gross'], lim['net'], lim['gross_limit'], lim['net_limit']\n",
    "    else:\n",
    "        print('API Error!')\n",
    "        "
   ]
  },
  {
   "cell_type": "markdown",
   "metadata": {},
   "source": [
    "### Divergence Functions"
   ]
  },
  {
   "cell_type": "code",
   "execution_count": 10,
   "metadata": {},
   "outputs": [],
   "source": [
    "def init_price(session, ticker):\n",
    "    resp = s.get('http://localhost:9999/v1/securities/history', params = {'ticker' : 'NGN'})\n",
    "    if resp.ok:\n",
    "        book = resp.json()\n",
    "        return book[-1]['close']\n",
    "\n",
    "def cur_price(session, ticker):\n",
    "    resp = s.get('http://localhost:9999/v1/securities/history', params = {'ticker' : 'NGN'})\n",
    "    if resp.ok:\n",
    "        book = resp.json()\n",
    "        return book[0]['close']\n",
    "    \n",
    "def ptd_ret(session, ticker):\n",
    "    return cur_price(session, ticker)/init_price(session, ticker) - 1\n",
    "\n",
    "def e_ptd_ret(session, ticker):\n",
    "    return ptd_ret(session, 'RSM1000') * df_bet[ticker][0]\n",
    "\n",
    "def div(session, ticker):\n",
    "    return ptd_ret(session, ticker) - e_ptd_ret(session, ticker)"
   ]
  },
  {
   "cell_type": "markdown",
   "metadata": {},
   "source": [
    "## Algorithm Execution Section"
   ]
  },
  {
   "cell_type": "code",
   "execution_count": 14,
   "metadata": {
    "collapsed": true
   },
   "outputs": [
    {
     "name": "stdout",
     "output_type": "stream",
     "text": [
      "The market buy order was submitted and has ID 209\n",
      "The market buy order was submitted and has ID 210\n",
      "The market buy order was submitted and has ID 211\n",
      "The market buy order was submitted and has ID 228\n",
      "The market buy order was submitted and has ID 229\n",
      "The market buy order was submitted and has ID 230\n",
      "The market buy order was submitted and has ID 239\n",
      "The market buy order was submitted and has ID 240\n",
      "The market buy order was submitted and has ID 249\n",
      "The market buy order was submitted and has ID 258\n",
      "The market buy order was submitted and has ID 259\n",
      "The market buy order was submitted and has ID 260\n",
      "The market buy order was submitted and has ID 277\n",
      "The market buy order was submitted and has ID 278\n",
      "The market buy order was submitted and has ID 279\n",
      "The market buy order was submitted and has ID 288\n",
      "The market buy order was submitted and has ID 289\n",
      "The market buy order was submitted and has ID 298\n",
      "The market buy order was submitted and has ID 307\n",
      "The market buy order was submitted and has ID 308\n",
      "The market buy order was submitted and has ID 309\n",
      "The market buy order was submitted and has ID 326\n",
      "The market buy order was submitted and has ID 327\n",
      "The market buy order was submitted and has ID 328\n",
      "The market buy order was submitted and has ID 337\n",
      "The market buy order was submitted and has ID 338\n",
      "The market buy order was submitted and has ID 347\n",
      "The market buy order was submitted and has ID 356\n",
      "The market buy order was submitted and has ID 357\n",
      "The market buy order was submitted and has ID 358\n",
      "The market buy order was submitted and has ID 375\n",
      "The market buy order was submitted and has ID 376\n",
      "The market buy order was submitted and has ID 377\n",
      "The market buy order was submitted and has ID 386\n",
      "The market buy order was submitted and has ID 387\n",
      "The market buy order was submitted and has ID 396\n",
      "The market buy order was submitted and has ID 405\n",
      "The market buy order was submitted and has ID 406\n",
      "The market buy order was submitted and has ID 407\n",
      "The market buy order was submitted and has ID 424\n",
      "The market buy order was submitted and has ID 425\n",
      "The market buy order was submitted and has ID 426\n",
      "The market buy order was submitted and has ID 435\n",
      "The market buy order was submitted and has ID 436\n",
      "The market buy order was submitted and has ID 445\n",
      "The market buy order was submitted and has ID 456\n",
      "The market buy order was submitted and has ID 457\n",
      "The market buy order was submitted and has ID 458\n",
      "The market buy order was submitted and has ID 477\n",
      "The market buy order was submitted and has ID 478\n",
      "The market buy order was submitted and has ID 479\n",
      "The market buy order was submitted and has ID 490\n",
      "The market buy order was submitted and has ID 491\n",
      "The market buy order was submitted and has ID 501\n",
      "The market buy order was submitted and has ID 511\n",
      "The market buy order was submitted and has ID 513\n",
      "The market buy order was submitted and has ID 515\n",
      "The market buy order was submitted and has ID 533\n",
      "The market buy order was submitted and has ID 535\n",
      "The market buy order was submitted and has ID 536\n",
      "The market buy order was submitted and has ID 547\n",
      "The market buy order was submitted and has ID 556\n",
      "The market buy order was submitted and has ID 557\n",
      "The market buy order was submitted and has ID 568\n",
      "The market buy order was submitted and has ID 569\n",
      "The market buy order was submitted and has ID 570\n",
      "The market buy order was submitted and has ID 589\n",
      "The market buy order was submitted and has ID 590\n",
      "The market buy order was submitted and has ID 591\n",
      "The market buy order was submitted and has ID 602\n",
      "The market buy order was submitted and has ID 611\n",
      "The market buy order was submitted and has ID 612\n",
      "The market buy order was submitted and has ID 623\n",
      "The market buy order was submitted and has ID 624\n",
      "The market buy order was submitted and has ID 625\n",
      "The market buy order was submitted and has ID 644\n",
      "The market buy order was submitted and has ID 645\n",
      "The market buy order was submitted and has ID 647\n",
      "The market buy order was submitted and has ID 657\n",
      "The market buy order was submitted and has ID 667\n",
      "The market buy order was submitted and has ID 669\n",
      "The market buy order was submitted and has ID 679\n",
      "The market buy order was submitted and has ID 681\n",
      "The market buy order was submitted and has ID 682\n",
      "The market buy order was submitted and has ID 701\n",
      "The market buy order was submitted and has ID 702\n",
      "The market buy order was submitted and has ID 703\n",
      "The market buy order was submitted and has ID 714\n",
      "The market buy order was submitted and has ID 723\n",
      "The market buy order was submitted and has ID 724\n",
      "The market buy order was submitted and has ID 735\n",
      "The market buy order was submitted and has ID 736\n",
      "The market buy order was submitted and has ID 745\n",
      "The market buy order was submitted and has ID 755\n",
      "The market buy order was submitted and has ID 757\n",
      "The market buy order was submitted and has ID 758\n",
      "The market buy order was submitted and has ID 769\n",
      "The market buy order was submitted and has ID 778\n",
      "The market buy order was submitted and has ID 779\n",
      "The market buy order was submitted and has ID 790\n",
      "The market buy order was submitted and has ID 791\n",
      "The market buy order was submitted and has ID 800\n",
      "The market buy order was submitted and has ID 811\n",
      "The market buy order was submitted and has ID 812\n",
      "The market buy order was submitted and has ID 813\n",
      "The market buy order was submitted and has ID 824\n",
      "The market buy order was submitted and has ID 833\n",
      "The market buy order was submitted and has ID 835\n",
      "The market buy order was submitted and has ID 845\n",
      "The market buy order was submitted and has ID 847\n",
      "The market buy order was submitted and has ID 857\n",
      "The market buy order was submitted and has ID 867\n",
      "The market buy order was submitted and has ID 869\n",
      "The market buy order was submitted and has ID 870\n",
      "The market buy order was submitted and has ID 881\n",
      "The market buy order was submitted and has ID 890\n",
      "The market buy order was submitted and has ID 891\n",
      "The market buy order was submitted and has ID 902\n",
      "The market buy order was submitted and has ID 903\n",
      "The market buy order was submitted and has ID 912\n",
      "The market buy order was submitted and has ID 923\n",
      "The market buy order was submitted and has ID 924\n",
      "The market buy order was submitted and has ID 925\n"
     ]
    },
    {
     "ename": "ConnectionError",
     "evalue": "HTTPConnectionPool(host='localhost', port=9999): Max retries exceeded with url: /v1/case (Caused by NewConnectionError('<urllib3.connection.HTTPConnection object at 0x00000203CD02F370>: Failed to establish a new connection: [WinError 10061] No connection could be made because the target machine actively refused it'))",
     "output_type": "error",
     "traceback": [
      "\u001b[1;31m---------------------------------------------------------------------------\u001b[0m",
      "\u001b[1;31mConnectionRefusedError\u001b[0m                    Traceback (most recent call last)",
      "\u001b[1;32m~\\anaconda3\\lib\\site-packages\\urllib3\\connection.py\u001b[0m in \u001b[0;36m_new_conn\u001b[1;34m(self)\u001b[0m\n\u001b[0;32m    158\u001b[0m         \u001b[1;32mtry\u001b[0m\u001b[1;33m:\u001b[0m\u001b[1;33m\u001b[0m\u001b[1;33m\u001b[0m\u001b[0m\n\u001b[1;32m--> 159\u001b[1;33m             conn = connection.create_connection(\n\u001b[0m\u001b[0;32m    160\u001b[0m                 \u001b[1;33m(\u001b[0m\u001b[0mself\u001b[0m\u001b[1;33m.\u001b[0m\u001b[0m_dns_host\u001b[0m\u001b[1;33m,\u001b[0m \u001b[0mself\u001b[0m\u001b[1;33m.\u001b[0m\u001b[0mport\u001b[0m\u001b[1;33m)\u001b[0m\u001b[1;33m,\u001b[0m \u001b[0mself\u001b[0m\u001b[1;33m.\u001b[0m\u001b[0mtimeout\u001b[0m\u001b[1;33m,\u001b[0m \u001b[1;33m**\u001b[0m\u001b[0mextra_kw\u001b[0m\u001b[1;33m\u001b[0m\u001b[1;33m\u001b[0m\u001b[0m\n",
      "\u001b[1;32m~\\anaconda3\\lib\\site-packages\\urllib3\\util\\connection.py\u001b[0m in \u001b[0;36mcreate_connection\u001b[1;34m(address, timeout, source_address, socket_options)\u001b[0m\n\u001b[0;32m     83\u001b[0m     \u001b[1;32mif\u001b[0m \u001b[0merr\u001b[0m \u001b[1;32mis\u001b[0m \u001b[1;32mnot\u001b[0m \u001b[1;32mNone\u001b[0m\u001b[1;33m:\u001b[0m\u001b[1;33m\u001b[0m\u001b[1;33m\u001b[0m\u001b[0m\n\u001b[1;32m---> 84\u001b[1;33m         \u001b[1;32mraise\u001b[0m \u001b[0merr\u001b[0m\u001b[1;33m\u001b[0m\u001b[1;33m\u001b[0m\u001b[0m\n\u001b[0m\u001b[0;32m     85\u001b[0m \u001b[1;33m\u001b[0m\u001b[0m\n",
      "\u001b[1;32m~\\anaconda3\\lib\\site-packages\\urllib3\\util\\connection.py\u001b[0m in \u001b[0;36mcreate_connection\u001b[1;34m(address, timeout, source_address, socket_options)\u001b[0m\n\u001b[0;32m     73\u001b[0m                 \u001b[0msock\u001b[0m\u001b[1;33m.\u001b[0m\u001b[0mbind\u001b[0m\u001b[1;33m(\u001b[0m\u001b[0msource_address\u001b[0m\u001b[1;33m)\u001b[0m\u001b[1;33m\u001b[0m\u001b[1;33m\u001b[0m\u001b[0m\n\u001b[1;32m---> 74\u001b[1;33m             \u001b[0msock\u001b[0m\u001b[1;33m.\u001b[0m\u001b[0mconnect\u001b[0m\u001b[1;33m(\u001b[0m\u001b[0msa\u001b[0m\u001b[1;33m)\u001b[0m\u001b[1;33m\u001b[0m\u001b[1;33m\u001b[0m\u001b[0m\n\u001b[0m\u001b[0;32m     75\u001b[0m             \u001b[1;32mreturn\u001b[0m \u001b[0msock\u001b[0m\u001b[1;33m\u001b[0m\u001b[1;33m\u001b[0m\u001b[0m\n",
      "\u001b[1;31mConnectionRefusedError\u001b[0m: [WinError 10061] No connection could be made because the target machine actively refused it",
      "\nDuring handling of the above exception, another exception occurred:\n",
      "\u001b[1;31mNewConnectionError\u001b[0m                        Traceback (most recent call last)",
      "\u001b[1;32m~\\anaconda3\\lib\\site-packages\\urllib3\\connectionpool.py\u001b[0m in \u001b[0;36murlopen\u001b[1;34m(self, method, url, body, headers, retries, redirect, assert_same_host, timeout, pool_timeout, release_conn, chunked, body_pos, **response_kw)\u001b[0m\n\u001b[0;32m    669\u001b[0m             \u001b[1;31m# Make the request on the httplib connection object.\u001b[0m\u001b[1;33m\u001b[0m\u001b[1;33m\u001b[0m\u001b[1;33m\u001b[0m\u001b[0m\n\u001b[1;32m--> 670\u001b[1;33m             httplib_response = self._make_request(\n\u001b[0m\u001b[0;32m    671\u001b[0m                 \u001b[0mconn\u001b[0m\u001b[1;33m,\u001b[0m\u001b[1;33m\u001b[0m\u001b[1;33m\u001b[0m\u001b[0m\n",
      "\u001b[1;32m~\\anaconda3\\lib\\site-packages\\urllib3\\connectionpool.py\u001b[0m in \u001b[0;36m_make_request\u001b[1;34m(self, conn, method, url, timeout, chunked, **httplib_request_kw)\u001b[0m\n\u001b[0;32m    391\u001b[0m         \u001b[1;32melse\u001b[0m\u001b[1;33m:\u001b[0m\u001b[1;33m\u001b[0m\u001b[1;33m\u001b[0m\u001b[0m\n\u001b[1;32m--> 392\u001b[1;33m             \u001b[0mconn\u001b[0m\u001b[1;33m.\u001b[0m\u001b[0mrequest\u001b[0m\u001b[1;33m(\u001b[0m\u001b[0mmethod\u001b[0m\u001b[1;33m,\u001b[0m \u001b[0murl\u001b[0m\u001b[1;33m,\u001b[0m \u001b[1;33m**\u001b[0m\u001b[0mhttplib_request_kw\u001b[0m\u001b[1;33m)\u001b[0m\u001b[1;33m\u001b[0m\u001b[1;33m\u001b[0m\u001b[0m\n\u001b[0m\u001b[0;32m    393\u001b[0m \u001b[1;33m\u001b[0m\u001b[0m\n",
      "\u001b[1;32m~\\anaconda3\\lib\\http\\client.py\u001b[0m in \u001b[0;36mrequest\u001b[1;34m(self, method, url, body, headers, encode_chunked)\u001b[0m\n\u001b[0;32m   1254\u001b[0m         \u001b[1;34m\"\"\"Send a complete request to the server.\"\"\"\u001b[0m\u001b[1;33m\u001b[0m\u001b[1;33m\u001b[0m\u001b[0m\n\u001b[1;32m-> 1255\u001b[1;33m         \u001b[0mself\u001b[0m\u001b[1;33m.\u001b[0m\u001b[0m_send_request\u001b[0m\u001b[1;33m(\u001b[0m\u001b[0mmethod\u001b[0m\u001b[1;33m,\u001b[0m \u001b[0murl\u001b[0m\u001b[1;33m,\u001b[0m \u001b[0mbody\u001b[0m\u001b[1;33m,\u001b[0m \u001b[0mheaders\u001b[0m\u001b[1;33m,\u001b[0m \u001b[0mencode_chunked\u001b[0m\u001b[1;33m)\u001b[0m\u001b[1;33m\u001b[0m\u001b[1;33m\u001b[0m\u001b[0m\n\u001b[0m\u001b[0;32m   1256\u001b[0m \u001b[1;33m\u001b[0m\u001b[0m\n",
      "\u001b[1;32m~\\anaconda3\\lib\\http\\client.py\u001b[0m in \u001b[0;36m_send_request\u001b[1;34m(self, method, url, body, headers, encode_chunked)\u001b[0m\n\u001b[0;32m   1300\u001b[0m             \u001b[0mbody\u001b[0m \u001b[1;33m=\u001b[0m \u001b[0m_encode\u001b[0m\u001b[1;33m(\u001b[0m\u001b[0mbody\u001b[0m\u001b[1;33m,\u001b[0m \u001b[1;34m'body'\u001b[0m\u001b[1;33m)\u001b[0m\u001b[1;33m\u001b[0m\u001b[1;33m\u001b[0m\u001b[0m\n\u001b[1;32m-> 1301\u001b[1;33m         \u001b[0mself\u001b[0m\u001b[1;33m.\u001b[0m\u001b[0mendheaders\u001b[0m\u001b[1;33m(\u001b[0m\u001b[0mbody\u001b[0m\u001b[1;33m,\u001b[0m \u001b[0mencode_chunked\u001b[0m\u001b[1;33m=\u001b[0m\u001b[0mencode_chunked\u001b[0m\u001b[1;33m)\u001b[0m\u001b[1;33m\u001b[0m\u001b[1;33m\u001b[0m\u001b[0m\n\u001b[0m\u001b[0;32m   1302\u001b[0m \u001b[1;33m\u001b[0m\u001b[0m\n",
      "\u001b[1;32m~\\anaconda3\\lib\\http\\client.py\u001b[0m in \u001b[0;36mendheaders\u001b[1;34m(self, message_body, encode_chunked)\u001b[0m\n\u001b[0;32m   1249\u001b[0m             \u001b[1;32mraise\u001b[0m \u001b[0mCannotSendHeader\u001b[0m\u001b[1;33m(\u001b[0m\u001b[1;33m)\u001b[0m\u001b[1;33m\u001b[0m\u001b[1;33m\u001b[0m\u001b[0m\n\u001b[1;32m-> 1250\u001b[1;33m         \u001b[0mself\u001b[0m\u001b[1;33m.\u001b[0m\u001b[0m_send_output\u001b[0m\u001b[1;33m(\u001b[0m\u001b[0mmessage_body\u001b[0m\u001b[1;33m,\u001b[0m \u001b[0mencode_chunked\u001b[0m\u001b[1;33m=\u001b[0m\u001b[0mencode_chunked\u001b[0m\u001b[1;33m)\u001b[0m\u001b[1;33m\u001b[0m\u001b[1;33m\u001b[0m\u001b[0m\n\u001b[0m\u001b[0;32m   1251\u001b[0m \u001b[1;33m\u001b[0m\u001b[0m\n",
      "\u001b[1;32m~\\anaconda3\\lib\\http\\client.py\u001b[0m in \u001b[0;36m_send_output\u001b[1;34m(self, message_body, encode_chunked)\u001b[0m\n\u001b[0;32m   1009\u001b[0m         \u001b[1;32mdel\u001b[0m \u001b[0mself\u001b[0m\u001b[1;33m.\u001b[0m\u001b[0m_buffer\u001b[0m\u001b[1;33m[\u001b[0m\u001b[1;33m:\u001b[0m\u001b[1;33m]\u001b[0m\u001b[1;33m\u001b[0m\u001b[1;33m\u001b[0m\u001b[0m\n\u001b[1;32m-> 1010\u001b[1;33m         \u001b[0mself\u001b[0m\u001b[1;33m.\u001b[0m\u001b[0msend\u001b[0m\u001b[1;33m(\u001b[0m\u001b[0mmsg\u001b[0m\u001b[1;33m)\u001b[0m\u001b[1;33m\u001b[0m\u001b[1;33m\u001b[0m\u001b[0m\n\u001b[0m\u001b[0;32m   1011\u001b[0m \u001b[1;33m\u001b[0m\u001b[0m\n",
      "\u001b[1;32m~\\anaconda3\\lib\\http\\client.py\u001b[0m in \u001b[0;36msend\u001b[1;34m(self, data)\u001b[0m\n\u001b[0;32m    949\u001b[0m             \u001b[1;32mif\u001b[0m \u001b[0mself\u001b[0m\u001b[1;33m.\u001b[0m\u001b[0mauto_open\u001b[0m\u001b[1;33m:\u001b[0m\u001b[1;33m\u001b[0m\u001b[1;33m\u001b[0m\u001b[0m\n\u001b[1;32m--> 950\u001b[1;33m                 \u001b[0mself\u001b[0m\u001b[1;33m.\u001b[0m\u001b[0mconnect\u001b[0m\u001b[1;33m(\u001b[0m\u001b[1;33m)\u001b[0m\u001b[1;33m\u001b[0m\u001b[1;33m\u001b[0m\u001b[0m\n\u001b[0m\u001b[0;32m    951\u001b[0m             \u001b[1;32melse\u001b[0m\u001b[1;33m:\u001b[0m\u001b[1;33m\u001b[0m\u001b[1;33m\u001b[0m\u001b[0m\n",
      "\u001b[1;32m~\\anaconda3\\lib\\site-packages\\urllib3\\connection.py\u001b[0m in \u001b[0;36mconnect\u001b[1;34m(self)\u001b[0m\n\u001b[0;32m    186\u001b[0m     \u001b[1;32mdef\u001b[0m \u001b[0mconnect\u001b[0m\u001b[1;33m(\u001b[0m\u001b[0mself\u001b[0m\u001b[1;33m)\u001b[0m\u001b[1;33m:\u001b[0m\u001b[1;33m\u001b[0m\u001b[1;33m\u001b[0m\u001b[0m\n\u001b[1;32m--> 187\u001b[1;33m         \u001b[0mconn\u001b[0m \u001b[1;33m=\u001b[0m \u001b[0mself\u001b[0m\u001b[1;33m.\u001b[0m\u001b[0m_new_conn\u001b[0m\u001b[1;33m(\u001b[0m\u001b[1;33m)\u001b[0m\u001b[1;33m\u001b[0m\u001b[1;33m\u001b[0m\u001b[0m\n\u001b[0m\u001b[0;32m    188\u001b[0m         \u001b[0mself\u001b[0m\u001b[1;33m.\u001b[0m\u001b[0m_prepare_conn\u001b[0m\u001b[1;33m(\u001b[0m\u001b[0mconn\u001b[0m\u001b[1;33m)\u001b[0m\u001b[1;33m\u001b[0m\u001b[1;33m\u001b[0m\u001b[0m\n",
      "\u001b[1;32m~\\anaconda3\\lib\\site-packages\\urllib3\\connection.py\u001b[0m in \u001b[0;36m_new_conn\u001b[1;34m(self)\u001b[0m\n\u001b[0;32m    170\u001b[0m         \u001b[1;32mexcept\u001b[0m \u001b[0mSocketError\u001b[0m \u001b[1;32mas\u001b[0m \u001b[0me\u001b[0m\u001b[1;33m:\u001b[0m\u001b[1;33m\u001b[0m\u001b[1;33m\u001b[0m\u001b[0m\n\u001b[1;32m--> 171\u001b[1;33m             raise NewConnectionError(\n\u001b[0m\u001b[0;32m    172\u001b[0m                 \u001b[0mself\u001b[0m\u001b[1;33m,\u001b[0m \u001b[1;34m\"Failed to establish a new connection: %s\"\u001b[0m \u001b[1;33m%\u001b[0m \u001b[0me\u001b[0m\u001b[1;33m\u001b[0m\u001b[1;33m\u001b[0m\u001b[0m\n",
      "\u001b[1;31mNewConnectionError\u001b[0m: <urllib3.connection.HTTPConnection object at 0x00000203CD02F370>: Failed to establish a new connection: [WinError 10061] No connection could be made because the target machine actively refused it",
      "\nDuring handling of the above exception, another exception occurred:\n",
      "\u001b[1;31mMaxRetryError\u001b[0m                             Traceback (most recent call last)",
      "\u001b[1;32m~\\anaconda3\\lib\\site-packages\\requests\\adapters.py\u001b[0m in \u001b[0;36msend\u001b[1;34m(self, request, stream, timeout, verify, cert, proxies)\u001b[0m\n\u001b[0;32m    438\u001b[0m             \u001b[1;32mif\u001b[0m \u001b[1;32mnot\u001b[0m \u001b[0mchunked\u001b[0m\u001b[1;33m:\u001b[0m\u001b[1;33m\u001b[0m\u001b[1;33m\u001b[0m\u001b[0m\n\u001b[1;32m--> 439\u001b[1;33m                 resp = conn.urlopen(\n\u001b[0m\u001b[0;32m    440\u001b[0m                     \u001b[0mmethod\u001b[0m\u001b[1;33m=\u001b[0m\u001b[0mrequest\u001b[0m\u001b[1;33m.\u001b[0m\u001b[0mmethod\u001b[0m\u001b[1;33m,\u001b[0m\u001b[1;33m\u001b[0m\u001b[1;33m\u001b[0m\u001b[0m\n",
      "\u001b[1;32m~\\anaconda3\\lib\\site-packages\\urllib3\\connectionpool.py\u001b[0m in \u001b[0;36murlopen\u001b[1;34m(self, method, url, body, headers, retries, redirect, assert_same_host, timeout, pool_timeout, release_conn, chunked, body_pos, **response_kw)\u001b[0m\n\u001b[0;32m    725\u001b[0m \u001b[1;33m\u001b[0m\u001b[0m\n\u001b[1;32m--> 726\u001b[1;33m             retries = retries.increment(\n\u001b[0m\u001b[0;32m    727\u001b[0m                 \u001b[0mmethod\u001b[0m\u001b[1;33m,\u001b[0m \u001b[0murl\u001b[0m\u001b[1;33m,\u001b[0m \u001b[0merror\u001b[0m\u001b[1;33m=\u001b[0m\u001b[0me\u001b[0m\u001b[1;33m,\u001b[0m \u001b[0m_pool\u001b[0m\u001b[1;33m=\u001b[0m\u001b[0mself\u001b[0m\u001b[1;33m,\u001b[0m \u001b[0m_stacktrace\u001b[0m\u001b[1;33m=\u001b[0m\u001b[0msys\u001b[0m\u001b[1;33m.\u001b[0m\u001b[0mexc_info\u001b[0m\u001b[1;33m(\u001b[0m\u001b[1;33m)\u001b[0m\u001b[1;33m[\u001b[0m\u001b[1;36m2\u001b[0m\u001b[1;33m]\u001b[0m\u001b[1;33m\u001b[0m\u001b[1;33m\u001b[0m\u001b[0m\n",
      "\u001b[1;32m~\\anaconda3\\lib\\site-packages\\urllib3\\util\\retry.py\u001b[0m in \u001b[0;36mincrement\u001b[1;34m(self, method, url, response, error, _pool, _stacktrace)\u001b[0m\n\u001b[0;32m    445\u001b[0m         \u001b[1;32mif\u001b[0m \u001b[0mnew_retry\u001b[0m\u001b[1;33m.\u001b[0m\u001b[0mis_exhausted\u001b[0m\u001b[1;33m(\u001b[0m\u001b[1;33m)\u001b[0m\u001b[1;33m:\u001b[0m\u001b[1;33m\u001b[0m\u001b[1;33m\u001b[0m\u001b[0m\n\u001b[1;32m--> 446\u001b[1;33m             \u001b[1;32mraise\u001b[0m \u001b[0mMaxRetryError\u001b[0m\u001b[1;33m(\u001b[0m\u001b[0m_pool\u001b[0m\u001b[1;33m,\u001b[0m \u001b[0murl\u001b[0m\u001b[1;33m,\u001b[0m \u001b[0merror\u001b[0m \u001b[1;32mor\u001b[0m \u001b[0mResponseError\u001b[0m\u001b[1;33m(\u001b[0m\u001b[0mcause\u001b[0m\u001b[1;33m)\u001b[0m\u001b[1;33m)\u001b[0m\u001b[1;33m\u001b[0m\u001b[1;33m\u001b[0m\u001b[0m\n\u001b[0m\u001b[0;32m    447\u001b[0m \u001b[1;33m\u001b[0m\u001b[0m\n",
      "\u001b[1;31mMaxRetryError\u001b[0m: HTTPConnectionPool(host='localhost', port=9999): Max retries exceeded with url: /v1/case (Caused by NewConnectionError('<urllib3.connection.HTTPConnection object at 0x00000203CD02F370>: Failed to establish a new connection: [WinError 10061] No connection could be made because the target machine actively refused it'))",
      "\nDuring handling of the above exception, another exception occurred:\n",
      "\u001b[1;31mConnectionError\u001b[0m                           Traceback (most recent call last)",
      "\u001b[1;32m<ipython-input-14-7c22d0b0f40d>\u001b[0m in \u001b[0;36m<module>\u001b[1;34m\u001b[0m\n\u001b[0;32m      4\u001b[0m     \u001b[0ms\u001b[0m\u001b[1;33m.\u001b[0m\u001b[0mheaders\u001b[0m\u001b[1;33m.\u001b[0m\u001b[0mupdate\u001b[0m\u001b[1;33m(\u001b[0m\u001b[0mAPI_KEY\u001b[0m\u001b[1;33m)\u001b[0m\u001b[1;33m\u001b[0m\u001b[1;33m\u001b[0m\u001b[0m\n\u001b[0;32m      5\u001b[0m     \u001b[1;32mwhile\u001b[0m \u001b[1;32mTrue\u001b[0m\u001b[1;33m:\u001b[0m\u001b[1;33m\u001b[0m\u001b[1;33m\u001b[0m\u001b[0m\n\u001b[1;32m----> 6\u001b[1;33m         \u001b[0mtick\u001b[0m \u001b[1;33m=\u001b[0m \u001b[0mget_tick\u001b[0m\u001b[1;33m(\u001b[0m\u001b[0ms\u001b[0m\u001b[1;33m)\u001b[0m\u001b[1;33m\u001b[0m\u001b[1;33m\u001b[0m\u001b[0m\n\u001b[0m\u001b[0;32m      7\u001b[0m         \u001b[1;32mif\u001b[0m \u001b[0mdiv\u001b[0m\u001b[1;33m(\u001b[0m\u001b[0ms\u001b[0m\u001b[1;33m,\u001b[0m \u001b[1;34m'NGN'\u001b[0m\u001b[1;33m)\u001b[0m \u001b[1;33m>\u001b[0m \u001b[1;36m0\u001b[0m\u001b[1;33m:\u001b[0m\u001b[1;33m\u001b[0m\u001b[1;33m\u001b[0m\u001b[0m\n\u001b[0;32m      8\u001b[0m             \u001b[0mbuy\u001b[0m\u001b[1;33m(\u001b[0m\u001b[0ms\u001b[0m\u001b[1;33m,\u001b[0m \u001b[1;34m'NGN'\u001b[0m\u001b[1;33m,\u001b[0m\u001b[1;34m'MARKET'\u001b[0m\u001b[1;33m,\u001b[0m  \u001b[1;33m-\u001b[0m\u001b[1;36m10\u001b[0m\u001b[1;33m)\u001b[0m\u001b[1;33m\u001b[0m\u001b[1;33m\u001b[0m\u001b[0m\n",
      "\u001b[1;32m<ipython-input-12-7631159a8564>\u001b[0m in \u001b[0;36mget_tick\u001b[1;34m(session)\u001b[0m\n\u001b[0;32m     10\u001b[0m \u001b[1;33m\u001b[0m\u001b[0m\n\u001b[0;32m     11\u001b[0m \u001b[1;32mdef\u001b[0m \u001b[0mget_tick\u001b[0m\u001b[1;33m(\u001b[0m\u001b[0msession\u001b[0m\u001b[1;33m)\u001b[0m\u001b[1;33m:\u001b[0m\u001b[1;33m\u001b[0m\u001b[1;33m\u001b[0m\u001b[0m\n\u001b[1;32m---> 12\u001b[1;33m     \u001b[0mresp\u001b[0m \u001b[1;33m=\u001b[0m \u001b[0msession\u001b[0m\u001b[1;33m.\u001b[0m\u001b[0mget\u001b[0m\u001b[1;33m(\u001b[0m\u001b[1;34m'http://localhost:9999/v1/case'\u001b[0m\u001b[1;33m)\u001b[0m\u001b[1;33m\u001b[0m\u001b[1;33m\u001b[0m\u001b[0m\n\u001b[0m\u001b[0;32m     13\u001b[0m     \u001b[1;32mif\u001b[0m \u001b[0mresp\u001b[0m\u001b[1;33m.\u001b[0m\u001b[0mok\u001b[0m\u001b[1;33m:\u001b[0m\u001b[1;33m\u001b[0m\u001b[1;33m\u001b[0m\u001b[0m\n\u001b[0;32m     14\u001b[0m         \u001b[0mcase\u001b[0m \u001b[1;33m=\u001b[0m \u001b[0mresp\u001b[0m\u001b[1;33m.\u001b[0m\u001b[0mjson\u001b[0m\u001b[1;33m(\u001b[0m\u001b[1;33m)\u001b[0m\u001b[1;33m\u001b[0m\u001b[1;33m\u001b[0m\u001b[0m\n",
      "\u001b[1;32m~\\anaconda3\\lib\\site-packages\\requests\\sessions.py\u001b[0m in \u001b[0;36mget\u001b[1;34m(self, url, **kwargs)\u001b[0m\n\u001b[0;32m    541\u001b[0m \u001b[1;33m\u001b[0m\u001b[0m\n\u001b[0;32m    542\u001b[0m         \u001b[0mkwargs\u001b[0m\u001b[1;33m.\u001b[0m\u001b[0msetdefault\u001b[0m\u001b[1;33m(\u001b[0m\u001b[1;34m'allow_redirects'\u001b[0m\u001b[1;33m,\u001b[0m \u001b[1;32mTrue\u001b[0m\u001b[1;33m)\u001b[0m\u001b[1;33m\u001b[0m\u001b[1;33m\u001b[0m\u001b[0m\n\u001b[1;32m--> 543\u001b[1;33m         \u001b[1;32mreturn\u001b[0m \u001b[0mself\u001b[0m\u001b[1;33m.\u001b[0m\u001b[0mrequest\u001b[0m\u001b[1;33m(\u001b[0m\u001b[1;34m'GET'\u001b[0m\u001b[1;33m,\u001b[0m \u001b[0murl\u001b[0m\u001b[1;33m,\u001b[0m \u001b[1;33m**\u001b[0m\u001b[0mkwargs\u001b[0m\u001b[1;33m)\u001b[0m\u001b[1;33m\u001b[0m\u001b[1;33m\u001b[0m\u001b[0m\n\u001b[0m\u001b[0;32m    544\u001b[0m \u001b[1;33m\u001b[0m\u001b[0m\n\u001b[0;32m    545\u001b[0m     \u001b[1;32mdef\u001b[0m \u001b[0moptions\u001b[0m\u001b[1;33m(\u001b[0m\u001b[0mself\u001b[0m\u001b[1;33m,\u001b[0m \u001b[0murl\u001b[0m\u001b[1;33m,\u001b[0m \u001b[1;33m**\u001b[0m\u001b[0mkwargs\u001b[0m\u001b[1;33m)\u001b[0m\u001b[1;33m:\u001b[0m\u001b[1;33m\u001b[0m\u001b[1;33m\u001b[0m\u001b[0m\n",
      "\u001b[1;32m~\\anaconda3\\lib\\site-packages\\requests\\sessions.py\u001b[0m in \u001b[0;36mrequest\u001b[1;34m(self, method, url, params, data, headers, cookies, files, auth, timeout, allow_redirects, proxies, hooks, stream, verify, cert, json)\u001b[0m\n\u001b[0;32m    528\u001b[0m         }\n\u001b[0;32m    529\u001b[0m         \u001b[0msend_kwargs\u001b[0m\u001b[1;33m.\u001b[0m\u001b[0mupdate\u001b[0m\u001b[1;33m(\u001b[0m\u001b[0msettings\u001b[0m\u001b[1;33m)\u001b[0m\u001b[1;33m\u001b[0m\u001b[1;33m\u001b[0m\u001b[0m\n\u001b[1;32m--> 530\u001b[1;33m         \u001b[0mresp\u001b[0m \u001b[1;33m=\u001b[0m \u001b[0mself\u001b[0m\u001b[1;33m.\u001b[0m\u001b[0msend\u001b[0m\u001b[1;33m(\u001b[0m\u001b[0mprep\u001b[0m\u001b[1;33m,\u001b[0m \u001b[1;33m**\u001b[0m\u001b[0msend_kwargs\u001b[0m\u001b[1;33m)\u001b[0m\u001b[1;33m\u001b[0m\u001b[1;33m\u001b[0m\u001b[0m\n\u001b[0m\u001b[0;32m    531\u001b[0m \u001b[1;33m\u001b[0m\u001b[0m\n\u001b[0;32m    532\u001b[0m         \u001b[1;32mreturn\u001b[0m \u001b[0mresp\u001b[0m\u001b[1;33m\u001b[0m\u001b[1;33m\u001b[0m\u001b[0m\n",
      "\u001b[1;32m~\\anaconda3\\lib\\site-packages\\requests\\sessions.py\u001b[0m in \u001b[0;36msend\u001b[1;34m(self, request, **kwargs)\u001b[0m\n\u001b[0;32m    641\u001b[0m \u001b[1;33m\u001b[0m\u001b[0m\n\u001b[0;32m    642\u001b[0m         \u001b[1;31m# Send the request\u001b[0m\u001b[1;33m\u001b[0m\u001b[1;33m\u001b[0m\u001b[1;33m\u001b[0m\u001b[0m\n\u001b[1;32m--> 643\u001b[1;33m         \u001b[0mr\u001b[0m \u001b[1;33m=\u001b[0m \u001b[0madapter\u001b[0m\u001b[1;33m.\u001b[0m\u001b[0msend\u001b[0m\u001b[1;33m(\u001b[0m\u001b[0mrequest\u001b[0m\u001b[1;33m,\u001b[0m \u001b[1;33m**\u001b[0m\u001b[0mkwargs\u001b[0m\u001b[1;33m)\u001b[0m\u001b[1;33m\u001b[0m\u001b[1;33m\u001b[0m\u001b[0m\n\u001b[0m\u001b[0;32m    644\u001b[0m \u001b[1;33m\u001b[0m\u001b[0m\n\u001b[0;32m    645\u001b[0m         \u001b[1;31m# Total elapsed time of the request (approximately)\u001b[0m\u001b[1;33m\u001b[0m\u001b[1;33m\u001b[0m\u001b[1;33m\u001b[0m\u001b[0m\n",
      "\u001b[1;32m~\\anaconda3\\lib\\site-packages\\requests\\adapters.py\u001b[0m in \u001b[0;36msend\u001b[1;34m(self, request, stream, timeout, verify, cert, proxies)\u001b[0m\n\u001b[0;32m    514\u001b[0m                 \u001b[1;32mraise\u001b[0m \u001b[0mSSLError\u001b[0m\u001b[1;33m(\u001b[0m\u001b[0me\u001b[0m\u001b[1;33m,\u001b[0m \u001b[0mrequest\u001b[0m\u001b[1;33m=\u001b[0m\u001b[0mrequest\u001b[0m\u001b[1;33m)\u001b[0m\u001b[1;33m\u001b[0m\u001b[1;33m\u001b[0m\u001b[0m\n\u001b[0;32m    515\u001b[0m \u001b[1;33m\u001b[0m\u001b[0m\n\u001b[1;32m--> 516\u001b[1;33m             \u001b[1;32mraise\u001b[0m \u001b[0mConnectionError\u001b[0m\u001b[1;33m(\u001b[0m\u001b[0me\u001b[0m\u001b[1;33m,\u001b[0m \u001b[0mrequest\u001b[0m\u001b[1;33m=\u001b[0m\u001b[0mrequest\u001b[0m\u001b[1;33m)\u001b[0m\u001b[1;33m\u001b[0m\u001b[1;33m\u001b[0m\u001b[0m\n\u001b[0m\u001b[0;32m    517\u001b[0m \u001b[1;33m\u001b[0m\u001b[0m\n\u001b[0;32m    518\u001b[0m         \u001b[1;32mexcept\u001b[0m \u001b[0mClosedPoolError\u001b[0m \u001b[1;32mas\u001b[0m \u001b[0me\u001b[0m\u001b[1;33m:\u001b[0m\u001b[1;33m\u001b[0m\u001b[1;33m\u001b[0m\u001b[0m\n",
      "\u001b[1;31mConnectionError\u001b[0m: HTTPConnectionPool(host='localhost', port=9999): Max retries exceeded with url: /v1/case (Caused by NewConnectionError('<urllib3.connection.HTTPConnection object at 0x00000203CD02F370>: Failed to establish a new connection: [WinError 10061] No connection could be made because the target machine actively refused it'))"
     ]
    }
   ],
   "source": [
    "signal.signal(signal.SIGINT, signal_handler)\n",
    "\n",
    "with requests.Session() as s:\n",
    "    s.headers.update(API_KEY)\n",
    "    while True:\n",
    "        tick = get_tick(s)\n",
    "        buy\n",
    "        if div(s, 'NGN') > 0:\n",
    "            buy(s, 'NGN','MARKET',  -10)\n",
    "        if div(s, 'WHEL') > 0:\n",
    "            buy(s, 'WHEL','MARKET', -10)\n",
    "        if div(s, 'GEAR') > 0:\n",
    "            buy(s, 'GEAR','MARKET', -10)\n",
    "        if div(s, 'NGN') < 0:\n",
    "            buy(s, 'NGN','MARKET', 10)\n",
    "        if div(s, 'WHEL') < 0:\n",
    "            buy(s, 'WHEL','MARKET', 10)\n",
    "        if div(s, 'GEAR') < 0:\n",
    "            buy(s, 'GEAR','MARKET', 10)\n",
    "        time.sleep(1)"
   ]
  }
 ],
 "metadata": {
  "kernelspec": {
   "display_name": "Python 3",
   "language": "python",
   "name": "python3"
  },
  "language_info": {
   "codemirror_mode": {
    "name": "ipython",
    "version": 3
   },
   "file_extension": ".py",
   "mimetype": "text/x-python",
   "name": "python",
   "nbconvert_exporter": "python",
   "pygments_lexer": "ipython3",
   "version": "3.8.5"
  }
 },
 "nbformat": 4,
 "nbformat_minor": 4
}
