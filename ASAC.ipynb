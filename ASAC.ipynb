{
 "cells": [
  {
   "cell_type": "markdown",
   "metadata": {},
   "source": [
    "## Import Libraries and Declare API Key"
   ]
  },
  {
   "cell_type": "code",
   "execution_count": 2,
   "metadata": {},
   "outputs": [],
   "source": [
    "import requests\n",
    "import pandas as pd\n",
    "import numpy as np\n",
    "import signal\n",
    "import time\n",
    "pd.options.mode.chained_assignment = None  # default='warn'"
   ]
  },
  {
   "cell_type": "code",
   "execution_count": 3,
   "metadata": {},
   "outputs": [],
   "source": [
    "API_KEY = {'X-API-key': 'RPCJTKLW'}"
   ]
  },
  {
   "cell_type": "markdown",
   "metadata": {},
   "source": [
    "## Accesing the Past Heat History"
   ]
  },
  {
   "cell_type": "markdown",
   "metadata": {},
   "source": [
    "### Historical Data Retrieval"
   ]
  },
  {
   "cell_type": "code",
   "execution_count": 4,
   "metadata": {},
   "outputs": [
    {
     "data": {
      "text/html": [
       "<div>\n",
       "<style scoped>\n",
       "    .dataframe tbody tr th:only-of-type {\n",
       "        vertical-align: middle;\n",
       "    }\n",
       "\n",
       "    .dataframe tbody tr th {\n",
       "        vertical-align: top;\n",
       "    }\n",
       "\n",
       "    .dataframe thead th {\n",
       "        text-align: right;\n",
       "    }\n",
       "</style>\n",
       "<table border=\"1\" class=\"dataframe\">\n",
       "  <thead>\n",
       "    <tr style=\"text-align: right;\">\n",
       "      <th></th>\n",
       "      <th>RSM1000</th>\n",
       "      <th>NGN</th>\n",
       "      <th>WHEL</th>\n",
       "      <th>GEAR</th>\n",
       "    </tr>\n",
       "  </thead>\n",
       "  <tbody>\n",
       "    <tr>\n",
       "      <th>0</th>\n",
       "      <td>96.65</td>\n",
       "      <td>25.17</td>\n",
       "      <td>26.35</td>\n",
       "      <td>24.59</td>\n",
       "    </tr>\n",
       "    <tr>\n",
       "      <th>1</th>\n",
       "      <td>96.24</td>\n",
       "      <td>24.98</td>\n",
       "      <td>26.35</td>\n",
       "      <td>24.52</td>\n",
       "    </tr>\n",
       "    <tr>\n",
       "      <th>2</th>\n",
       "      <td>96.50</td>\n",
       "      <td>25.09</td>\n",
       "      <td>26.34</td>\n",
       "      <td>24.61</td>\n",
       "    </tr>\n",
       "    <tr>\n",
       "      <th>3</th>\n",
       "      <td>96.22</td>\n",
       "      <td>25.03</td>\n",
       "      <td>26.36</td>\n",
       "      <td>24.48</td>\n",
       "    </tr>\n",
       "    <tr>\n",
       "      <th>4</th>\n",
       "      <td>97.07</td>\n",
       "      <td>25.34</td>\n",
       "      <td>26.24</td>\n",
       "      <td>24.59</td>\n",
       "    </tr>\n",
       "    <tr>\n",
       "      <th>...</th>\n",
       "      <td>...</td>\n",
       "      <td>...</td>\n",
       "      <td>...</td>\n",
       "      <td>...</td>\n",
       "    </tr>\n",
       "    <tr>\n",
       "      <th>296</th>\n",
       "      <td>99.98</td>\n",
       "      <td>24.99</td>\n",
       "      <td>25.02</td>\n",
       "      <td>25.14</td>\n",
       "    </tr>\n",
       "    <tr>\n",
       "      <th>297</th>\n",
       "      <td>99.88</td>\n",
       "      <td>24.89</td>\n",
       "      <td>25.10</td>\n",
       "      <td>25.10</td>\n",
       "    </tr>\n",
       "    <tr>\n",
       "      <th>298</th>\n",
       "      <td>99.70</td>\n",
       "      <td>24.80</td>\n",
       "      <td>25.12</td>\n",
       "      <td>25.10</td>\n",
       "    </tr>\n",
       "    <tr>\n",
       "      <th>299</th>\n",
       "      <td>99.85</td>\n",
       "      <td>24.93</td>\n",
       "      <td>25.04</td>\n",
       "      <td>24.97</td>\n",
       "    </tr>\n",
       "    <tr>\n",
       "      <th>300</th>\n",
       "      <td>100.00</td>\n",
       "      <td>25.00</td>\n",
       "      <td>25.00</td>\n",
       "      <td>25.00</td>\n",
       "    </tr>\n",
       "  </tbody>\n",
       "</table>\n",
       "<p>301 rows × 4 columns</p>\n",
       "</div>"
      ],
      "text/plain": [
       "     RSM1000    NGN   WHEL   GEAR\n",
       "0      96.65  25.17  26.35  24.59\n",
       "1      96.24  24.98  26.35  24.52\n",
       "2      96.50  25.09  26.34  24.61\n",
       "3      96.22  25.03  26.36  24.48\n",
       "4      97.07  25.34  26.24  24.59\n",
       "..       ...    ...    ...    ...\n",
       "296    99.98  24.99  25.02  25.14\n",
       "297    99.88  24.89  25.10  25.10\n",
       "298    99.70  24.80  25.12  25.10\n",
       "299    99.85  24.93  25.04  24.97\n",
       "300   100.00  25.00  25.00  25.00\n",
       "\n",
       "[301 rows x 4 columns]"
      ]
     },
     "execution_count": 4,
     "metadata": {},
     "output_type": "execute_result"
    }
   ],
   "source": [
    "pd_new = ''\n",
    "with requests.Session() as s:\n",
    "    s.headers.update(API_KEY)\n",
    "    resp = s.get('http://localhost:9999/v1/news')\n",
    "    if resp.ok:\n",
    "        price_hist = resp.json()\n",
    "        pd_list = pd.read_html(price_hist[0]['body'])\n",
    "        pd_new = pd_list[0]\n",
    "        pd_new = pd_new.iloc[: , 1:]\n",
    "        pd_new.rename(columns=pd_new.iloc[0], inplace = True)\n",
    "        pd_new.drop([0], inplace = True)\n",
    "        pd_new.index = np.arange(0, len(pd_new))\n",
    "        pd_new = pd_new.apply(pd.to_numeric, errors='ignore')\n",
    "    else:\n",
    "        print('API Error')\n",
    "\n",
    "pd_new"
   ]
  },
  {
   "cell_type": "code",
   "execution_count": null,
   "metadata": {},
   "outputs": [],
   "source": []
  },
  {
   "cell_type": "markdown",
   "metadata": {},
   "source": [
    "### Observed Historical Correlation"
   ]
  },
  {
   "cell_type": "code",
   "execution_count": null,
   "metadata": {},
   "outputs": [],
   "source": [
    "corr_df = pd_new.corr()\n",
    "#reset symbol as index (rather than 0-X)\n",
    "corr_df.head(10)\n",
    "corr_df.style.set_caption(\"Observed Historical Correlation\")"
   ]
  },
  {
   "cell_type": "markdown",
   "metadata": {},
   "source": [
    "### Observed Historical Volatillity"
   ]
  },
  {
   "cell_type": "code",
   "execution_count": null,
   "metadata": {},
   "outputs": [],
   "source": [
    "def volatility(tick):\n",
    "    pd_new['Log returns'] = np.log(pd_new[tick]/pd_new[tick].shift())\n",
    "    volatility = pd_new['Log returns'].std()*1200**.5\n",
    "    return volatility"
   ]
  },
  {
   "cell_type": "code",
   "execution_count": null,
   "metadata": {},
   "outputs": [],
   "source": [
    "lst = [[volatility('RSM1000'), volatility('NGN'), volatility('WHEL'), volatility('GEAR')]]\n",
    "df_vol = pd.DataFrame(lst, columns =['RSM1000', 'GEAR', 'WHEL', 'NGN'])\n",
    "df_vol.style.set_caption(\"Observed Historical Volatillity\")"
   ]
  },
  {
   "cell_type": "markdown",
   "metadata": {},
   "source": [
    "### Observed Historical Beta"
   ]
  },
  {
   "cell_type": "code",
   "execution_count": null,
   "metadata": {},
   "outputs": [],
   "source": [
    "def market_beta(tick):\n",
    "    pd_new['Log returns_RSM'] = np.log(pd_new['RSM1000']/pd_new['RSM1000'].shift())\n",
    "    pd_new['Log returns'] = np.log(pd_new[tick]/pd_new[tick].shift())\n",
    "    \n",
    "    beta = corr_df['RSM1000'][tick] * (pd_new['Log returns'].std() / pd_new['Log returns_RSM'].std())\n",
    "    return beta  "
   ]
  },
  {
   "cell_type": "code",
   "execution_count": null,
   "metadata": {},
   "outputs": [],
   "source": [
    "lst = [[market_beta('GEAR'), market_beta('WHEL'), market_beta('NGN')]]\n",
    "df_bet = pd.DataFrame(lst, columns =['GEAR', 'WHEL', 'NGN'])\n",
    "df_bet.style.set_caption(\"Observed Historical Beta\")"
   ]
  },
  {
   "cell_type": "markdown",
   "metadata": {},
   "source": [
    "## Current Heat Trading Algorithm"
   ]
  },
  {
   "cell_type": "markdown",
   "metadata": {},
   "source": [
    "### Basic Buy and Sell Functions"
   ]
  },
  {
   "cell_type": "code",
   "execution_count": null,
   "metadata": {},
   "outputs": [],
   "source": [
    "shutdown = False\n",
    "\n",
    "class ApiException(Exception):\n",
    "    pass\n",
    "\n",
    "def signal_handler(signum, frame):\n",
    "    global shutdown\n",
    "    signal.signal(signal.SIGINT, signal.SIG_DFL)\n",
    "    shutdown = True\n",
    "\n",
    "def get_tick(session):\n",
    "    resp = session.get('http://localhost:9999/v1/case')\n",
    "    if resp.ok:\n",
    "        case = resp.json()\n",
    "        return case['tick']\n",
    "    raise ApiException('Authorization error. Please check API key.')\n",
    "\n",
    "def ticker_bid_ask(session, ticker):\n",
    "    payload = {'ticker': ticker}\n",
    "    resp = session.get('http://localhost:9999/v1/securities/book', params = payload)\n",
    "    if resp.ok:\n",
    "        book = resp.json()\n",
    "        return book['bids'][0]['price'], book['asks'][0]['price']\n",
    "    raise ApiException('Authorization error. Please check API key.')\n",
    "\n",
    "def buy(session, ticker, type, q, price = None):\n",
    "    if type == 'MARKET':\n",
    "        resp = session.post('http://localhost:9999/v1/orders', params = {'ticker': ticker, 'type': 'MARKET', 'quantity': q, 'action': 'BUY'})\n",
    "        if resp.ok:\n",
    "            mkt_order = resp.json()\n",
    "            id = mkt_order['order_id']\n",
    "            print('The market buy order was submitted and has ID', id)\n",
    "        else:\n",
    "            print('The order was not successfully submitted!')\n",
    "    else:\n",
    "        resp = session.post('http://localhost:9999/v1/orders',\n",
    "                            params={'ticker': ticker, 'type': 'LIMIT', 'quantity': q, 'action': 'BUY', 'price': price})\n",
    "        if resp.ok:\n",
    "            mkt_order = resp.json()\n",
    "            id = mkt_order['order_id']\n",
    "            print('The market buy order was submitted and has ID', id)\n",
    "        else:\n",
    "            print('The order was not successfully submitted!')\n",
    "\n",
    "def sell(session, ticker, type, q, price = None):\n",
    "    if type == 'MARKET':\n",
    "        resp = session.post('http://localhost:9999/v1/orders', params = {'ticker': ticker, 'type': 'MARKET', 'quantity': q, 'action': 'SELL'})\n",
    "        if resp.ok:\n",
    "            mkt_order = resp.json()\n",
    "            id = mkt_order['order_id']\n",
    "            print('The market buy order was submitted and has ID', id)\n",
    "        else:\n",
    "            print('The order was not successfully submitted!')\n",
    "    else:\n",
    "        resp = session.post('http://localhost:9999/v1/orders',\n",
    "                            params={'ticker': ticker, 'type': 'LIMIT', 'quantity': q, 'action': 'SELL', 'price': price})\n",
    "        if resp.ok:\n",
    "            mkt_order = resp.json()\n",
    "            id = mkt_order['order_id']\n",
    "            print('The market buy order was submitted and has ID', id)\n",
    "        else:\n",
    "            print('The order was not successfully submitted!')\n",
    "\n",
    "def cancel(session, order_id):\n",
    "    order_id = order_id # assuming the order to cancel has ID 100\n",
    "    resp = session.delete('http://localhost:9999/v1/orders/{}'.format(order_id))\n",
    "    if resp.ok:\n",
    "        status = resp.json()\n",
    "        success = status['success']\n",
    "        print('The order was successfully cancelled?', success)\n",
    "        \n",
    "def get_limit(session):\n",
    "    resp = session.get('http://localhost:9999/v1/limits')\n",
    "    if resp.ok:\n",
    "        lim = resp.json()[0]\n",
    "        return lim['gross'], lim['net'], lim['gross_limit'], lim['net_limit']\n",
    "    else:\n",
    "        print('API Error!')\n",
    "        "
   ]
  },
  {
   "cell_type": "markdown",
   "metadata": {},
   "source": [
    "### Divergence Functions"
   ]
  },
  {
   "cell_type": "code",
   "execution_count": null,
   "metadata": {},
   "outputs": [],
   "source": [
    "def init_price(session, ticker):\n",
    "    resp = s.get('http://localhost:9999/v1/securities/history', params = {'ticker' : 'NGN'})\n",
    "    if resp.ok:\n",
    "        book = resp.json()\n",
    "        return book[-1]['close']\n",
    "\n",
    "def cur_price(session, ticker):\n",
    "    resp = s.get('http://localhost:9999/v1/securities/history', params = {'ticker' : 'NGN'})\n",
    "    if resp.ok:\n",
    "        book = resp.json()\n",
    "        return book[0]['close']\n",
    "    \n",
    "def ptd_ret(session, ticker):\n",
    "    return cur_price(session, ticker)/init_price(session, ticker) - 1\n",
    "\n",
    "def e_ptd_ret(session, ticker):\n",
    "    return ptd_ret(session, 'RSM1000') * df_bet[ticker][0]\n",
    "\n",
    "def div(session, ticker):\n",
    "    return ptd_ret(session, ticker) - e_ptd_ret(session, ticker)"
   ]
  },
  {
   "cell_type": "markdown",
   "metadata": {},
   "source": [
    "## Algorithm Execution Section"
   ]
  },
  {
   "cell_type": "code",
   "execution_count": null,
   "metadata": {},
   "outputs": [],
   "source": [
    "with requests.Session() as s:\n",
    "    s.headers.update(API_KEY)\n",
    "    gross, net, gross_limit, net_limit = get_limit(s)\n",
    "    print('gross: ', gross)\n",
    "    print('net: ', net)\n",
    "    print('gross_limit: ', gross_limit)\n",
    "    print('net_limit: ', net_limit)"
   ]
  },
  {
   "cell_type": "code",
   "execution_count": null,
   "metadata": {},
   "outputs": [],
   "source": [
    "signal.signal(signal.SIGINT, signal_handler)\n",
    "\n",
    "with requests.Session() as s:\n",
    "    s.headers.update(API_KEY)\n",
    "    while True:\n",
    "        tick = get_tick(s)\n",
    "        price = 10000\n",
    "        if div(s, 'NGN') > 0:\n",
    "            buy(s, 'NGN','MARKET',  -price)\n",
    "        if div(s, 'WHEL') > 0:\n",
    "            buy(s, 'WHEL','MARKET', -price)\n",
    "        if div(s, 'GEAR') > 0:\n",
    "            buy(s, 'GEAR','MARKET', -price)\n",
    "        if div(s, 'NGN') < 0:\n",
    "            buy(s, 'NGN','MARKET', price)\n",
    "        if div(s, 'WHEL') < 0:\n",
    "            buy(s, 'WHEL','MARKET', price)\n",
    "        if div(s, 'GEAR') < 0:\n",
    "            buy(s, 'GEAR','MARKET', price)\n",
    "        time.sleep(1)"
   ]
  },
  {
   "cell_type": "code",
   "execution_count": null,
   "metadata": {},
   "outputs": [],
   "source": []
  }
 ],
 "metadata": {
  "kernelspec": {
   "display_name": "Python 3",
   "language": "python",
   "name": "python3"
  },
  "language_info": {
   "codemirror_mode": {
    "name": "ipython",
    "version": 3
   },
   "file_extension": ".py",
   "mimetype": "text/x-python",
   "name": "python",
   "nbconvert_exporter": "python",
   "pygments_lexer": "ipython3",
   "version": "3.8.5"
  }
 },
 "nbformat": 4,
 "nbformat_minor": 4
}
