{
 "cells": [
  {
   "cell_type": "code",
   "execution_count": 1,
   "metadata": {},
   "outputs": [],
   "source": [
    "import requests\n",
    "import pandas as pd\n",
    "import numpy as np\n",
    "import signal\n",
    "import time"
   ]
  },
  {
   "cell_type": "code",
   "execution_count": 2,
   "metadata": {},
   "outputs": [],
   "source": [
    "API_KEY = {'X-API-key': 'RPCJTKLW'}"
   ]
  },
  {
   "cell_type": "code",
   "execution_count": 5,
   "metadata": {},
   "outputs": [
    {
     "name": "stdout",
     "output_type": "stream",
     "text": [
      "          TENDER CHATTER for Week 1\n",
      "firm size                    medium\n",
      "demand                   a shortage\n",
      "item               heavy crude oil.\n",
      "          TENDER CHATTER for Week 2\n",
      "firm size                     large\n",
      "demand                    a surplus\n",
      "item               heavy crude oil.\n",
      "          TENDER CHATTER for Week 3\n",
      "firm size                     large\n",
      "demand                    a surplus\n",
      "item               light crude oil.\n",
      "          TENDER CHATTER for Week 4\n",
      "firm size                    medium\n",
      "demand                excess demand\n",
      "item               heavy crude oil.\n",
      "          TENDER CHATTER for Week 5\n",
      "firm size                     large\n",
      "demand                   a shortage\n",
      "item               light crude oil.\n",
      "          TENDER CHATTER for Week 6\n",
      "firm size                    medium\n",
      "demand                excess demand\n",
      "item               heavy crude oil.\n",
      "          TENDER CHATTER for Week 7\n",
      "firm size                     small\n",
      "demand                   a shortage\n",
      "item               heavy crude oil.\n",
      "          TENDER CHATTER for Week 8\n",
      "firm size                     large\n",
      "demand                    a surplus\n",
      "item               light crude oil.\n",
      "API Error!\n",
      "API Error!\n",
      "API Error!\n",
      "API Error!\n",
      "API Error!\n",
      "API Error!\n",
      "API Error!\n",
      "API Error!\n",
      "API Error!\n",
      "API Error!\n",
      "API Error!\n",
      "API Error!\n",
      "API Error!\n",
      "API Error!\n",
      "API Error!\n",
      "API Error!\n",
      "API Error!\n",
      "API Error!\n",
      "API Error!\n",
      "API Error!\n",
      "API Error!\n",
      "API Error!\n",
      "API Error!\n",
      "API Error!\n",
      "API Error!\n",
      "API Error!\n",
      "API Error!\n",
      "API Error!\n",
      "API Error!\n",
      "API Error!\n",
      "API Error!\n",
      "API Error!\n",
      "API Error!\n",
      "API Error!\n",
      "API Error!\n",
      "API Error!\n",
      "API Error!\n",
      "API Error!\n",
      "API Error!\n",
      "API Error!\n",
      "API Error!\n"
     ]
    },
    {
     "ename": "IndexError",
     "evalue": "list index out of range",
     "output_type": "error",
     "traceback": [
      "\u001b[1;31m---------------------------------------------------------------------------\u001b[0m",
      "\u001b[1;31mIndexError\u001b[0m                                Traceback (most recent call last)",
      "\u001b[1;32m<ipython-input-5-ff394e8ec2a2>\u001b[0m in \u001b[0;36m<module>\u001b[1;34m\u001b[0m\n\u001b[0;32m     11\u001b[0m             \u001b[0mprint\u001b[0m\u001b[1;33m(\u001b[0m\u001b[1;34m'API Error!'\u001b[0m\u001b[1;33m)\u001b[0m\u001b[1;33m\u001b[0m\u001b[1;33m\u001b[0m\u001b[0m\n\u001b[0;32m     12\u001b[0m \u001b[1;33m\u001b[0m\u001b[0m\n\u001b[1;32m---> 13\u001b[1;33m     \u001b[0mheadline\u001b[0m \u001b[1;33m=\u001b[0m \u001b[0mnews\u001b[0m\u001b[1;33m[\u001b[0m\u001b[1;36m0\u001b[0m\u001b[1;33m]\u001b[0m\u001b[1;33m[\u001b[0m\u001b[1;34m'headline'\u001b[0m\u001b[1;33m]\u001b[0m\u001b[1;33m\u001b[0m\u001b[1;33m\u001b[0m\u001b[0m\n\u001b[0m\u001b[0;32m     14\u001b[0m     \u001b[0mweek\u001b[0m \u001b[1;33m=\u001b[0m \u001b[0mint\u001b[0m\u001b[1;33m(\u001b[0m\u001b[0mnews\u001b[0m\u001b[1;33m[\u001b[0m\u001b[1;36m0\u001b[0m\u001b[1;33m]\u001b[0m\u001b[1;33m[\u001b[0m\u001b[1;34m'headline'\u001b[0m\u001b[1;33m]\u001b[0m\u001b[1;33m[\u001b[0m\u001b[1;33m-\u001b[0m\u001b[1;36m1\u001b[0m\u001b[1;33m]\u001b[0m\u001b[1;33m)\u001b[0m\u001b[1;33m\u001b[0m\u001b[1;33m\u001b[0m\u001b[0m\n\u001b[0;32m     15\u001b[0m     \u001b[0mtokenized\u001b[0m \u001b[1;33m=\u001b[0m \u001b[0mnews\u001b[0m\u001b[1;33m[\u001b[0m\u001b[1;36m0\u001b[0m\u001b[1;33m]\u001b[0m\u001b[1;33m[\u001b[0m\u001b[1;34m'body'\u001b[0m\u001b[1;33m]\u001b[0m\u001b[1;33m.\u001b[0m\u001b[0msplit\u001b[0m\u001b[1;33m(\u001b[0m\u001b[1;34m' '\u001b[0m\u001b[1;33m)\u001b[0m\u001b[1;33m\u001b[0m\u001b[1;33m\u001b[0m\u001b[0m\n",
      "\u001b[1;31mIndexError\u001b[0m: list index out of range"
     ]
    }
   ],
   "source": [
    "news = []\n",
    "count = 1\n",
    "\n",
    "while True:\n",
    "    with requests.Session() as s:\n",
    "        s.headers.update(API_KEY)\n",
    "        resp = s.get('http://localhost:9999/v1/news')\n",
    "        if resp.ok:\n",
    "            news = resp.json()\n",
    "        else:\n",
    "            print('API Error!')\n",
    "\n",
    "    headline = news[0]['headline']\n",
    "    week = int(news[0]['headline'][-1])\n",
    "    tokenized = news[0]['body'].split(' ')\n",
    "    size = tokenized[tokenized.index('that') + 1]\n",
    "    demand = tokenized[tokenized.index('have') + 1] + ' ' + tokenized[tokenized.index('have') + 2]\n",
    "    item = tokenized[tokenized.index('of') + 1] + ' ' + tokenized[tokenized.index('of') + 2]+ ' ' + tokenized[tokenized.index('of') + 3]\n",
    "\n",
    "    df_news = pd.DataFrame({headline:[size, demand, item]}, index =['firm size', 'demand', 'item']) \n",
    "    \n",
    "    if week == count:\n",
    "        print(df_news)\n",
    "        count += 1\n",
    "        \n",
    "    time.sleep(1)"
   ]
  },
  {
   "cell_type": "code",
   "execution_count": null,
   "metadata": {},
   "outputs": [],
   "source": []
  }
 ],
 "metadata": {
  "kernelspec": {
   "display_name": "Python 3",
   "language": "python",
   "name": "python3"
  },
  "language_info": {
   "codemirror_mode": {
    "name": "ipython",
    "version": 3
   },
   "file_extension": ".py",
   "mimetype": "text/x-python",
   "name": "python",
   "nbconvert_exporter": "python",
   "pygments_lexer": "ipython3",
   "version": "3.8.5"
  }
 },
 "nbformat": 4,
 "nbformat_minor": 4
}
